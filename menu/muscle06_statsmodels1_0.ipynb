{
 "cells": [
  {
   "cell_type": "markdown",
   "metadata": {
    "colab_type": "text",
    "id": "IB0Kmqq7Kulp"
   },
   "source": [
    "# statsmodelsを用いた統計の例題と練習問題\n",
    "\n",
    "困ったら[公式ページ](https://www.statsmodels.org/stable/index.html)を見るのが一番\n",
    "\n",
    "statsmodelsがインストールされていない場合、自分でインストールする必要があります\n",
    "- 例えば、以下のコードでImportError: No module named statsmodelsが出た場合\n",
    "\n",
    "## 線形回帰\n",
    "\n",
    "http://logopt.com/data/Diamond.csv からダイアモンドの価格データを読み込み，線形回帰を適用する．\n",
    "\n",
    "列は [\"carat\",\"colour\",\"clarity\",\"certification\",\"price\"] であり，他の情報から価格(price)の予測を行う．\n",
    "\n",
    "1. データをpandasのデータフレームとして読み込む．\n",
    "2. statsmodels.formula.apiを **smf** (stats model formula)の名前でインポートする．\n",
    "3. smfの一般化線形モデル**glm**を用いてモデルインスタンスを生成する．\n",
    "このとき，列名を用いた**式(formula)**を文字列で記述し引数**formula**で，データは引数**data**にデータフレームとして入力する．\n",
    "4. モデルインスタンスの**fitメソッド**で学習を行う．\n",
    "5. モデルインスタンスの**summary(2)**メソッドで結果を見る．\n"
   ]
  },
  {
   "cell_type": "code",
   "execution_count": null,
   "metadata": {
    "colab": {
     "base_uri": "https://localhost:8080/",
     "height": 195
    },
    "colab_type": "code",
    "id": "LKwvxRd4Kulr",
    "outputId": "da1fd906-6829-4dd2-e5bf-8488e58681d7"
   },
   "outputs": [],
   "source": [
    "import pandas as pd\n",
    "%matplotlib inline\n",
    "diamond = pd.read_csv('http://logopt.com/data/Diamond.csv', index_col=0)\n",
    "diamond.head()"
   ]
  },
  {
   "cell_type": "code",
   "execution_count": null,
   "metadata": {
    "colab": {
     "base_uri": "https://localhost:8080/",
     "height": 510
    },
    "colab_type": "code",
    "id": "Ujzn1WyOKul2",
    "outputId": "f82de469-8deb-4082-f051-0fe9f2842a8c"
   },
   "outputs": [],
   "source": [
    "import statsmodels.formula.api as smf\n",
    "model = smf.glm('price ~ carat + colour + clarity +certification', diamond) \n",
    "fit = model.fit()                                \n",
    "print(fit.summary2())    "
   ]
  },
  {
   "cell_type": "markdown",
   "metadata": {
    "colab_type": "text",
    "id": "oToKe-q0Kul8"
   },
   "source": [
    "### サマリーの見方\n",
    "\n",
    "- No. Observations : サンプル数 (=308)\n",
    "- Df Model : 自由度(Degree of Freedom) 変数の数なので $12$   \n",
    "- AIC : [赤池情報量基準(Akaike Information Criterion) ](https://ja.wikipedia.org/wiki/%E8%B5%A4%E6%B1%A0%E6%83%85%E5%A0%B1%E9%87%8F%E8%A6%8F%E6%BA%96)\n",
    "($=4931.3248 = -2 \\times 対数尤度 + 2 \\times (自由度+1) = -2 \\times (-2452.7) +2 \\times (12+1)$ )　(小さいほどモデルの適合度が良い）\n",
    "- Log-Likelihood: 尤度の対数（最大尤度のものを求めている）[最尤推定](https://ja.wikipedia.org/wiki/%E6%9C%80%E5%B0%A4%E6%8E%A8%E5%AE%9A)\n",
    "- Corf. : 係数（一番上のInterceptはy切片）\n",
    "- Std. Err. : 標準誤差\n",
    "- z : 標準偏差．大きいほど係数が信頼できる\n",
    "- P : P値（偶然|z|を超える確率）．小さいほど係数が信頼できる（以下の表参照）\n",
    "- [0.025, 0.975] : 係数の信頼区間\n",
    "\n",
    "| z (標準偏差) | P値 (確率） | 信頼度 |\n",
    "|:-----------|------------:|:------------:|\n",
    "| < -1.65 または > +1.65 | < 0.10 | 90%\n",
    "| < -1.96 または > +1.96 | < 0.05 | 95%\n",
    "| < -2.58 または > +2.58 |  < 0.01 | 99%  \n"
   ]
  },
  {
   "cell_type": "code",
   "execution_count": null,
   "metadata": {
    "colab": {
     "base_uri": "https://localhost:8080/",
     "height": 279
    },
    "colab_type": "code",
    "id": "9WG_8kvkKul9",
    "outputId": "83925b2e-5706-4f32-c10e-ca97d2ab1546"
   },
   "outputs": [],
   "source": [
    "diamond['predict'] = fit.predict() #予測を行い，結果を'predict'列に追加\n",
    "diamond.plot.scatter(x='predict',y='price'); #描画"
   ]
  },
  {
   "cell_type": "code",
   "execution_count": null,
   "metadata": {
    "colab": {},
    "colab_type": "code",
    "id": "koCKHVmVKumC"
   },
   "outputs": [],
   "source": []
  },
  {
   "cell_type": "markdown",
   "metadata": {
    "colab_type": "text",
    "id": "UNMl3ex4KumF"
   },
   "source": [
    "### 問題\n",
    "\n",
    "http://logopt.com/data/carprice.csv から車の価格データを読み込み，線形回帰による予測を行え．\n",
    "\n",
    "車種(Type)，100マイル走る際のガロン数（gpm100），都市部での1ガロンあたりの走行距離（MPGcity），高速道路での１ガロン当たりの走行距離（MPGhighway）から，価格(Price)を予測せよ．"
   ]
  },
  {
   "cell_type": "code",
   "execution_count": null,
   "metadata": {
    "colab": {},
    "colab_type": "code",
    "id": "6h2Y5NJDKumG"
   },
   "outputs": [],
   "source": []
  },
  {
   "cell_type": "markdown",
   "metadata": {
    "colab_type": "text",
    "id": "YRaH83PkKumJ"
   },
   "source": [
    "### 問題\n",
    "\n",
    "広告のデータ http://logopt.com/data/Advertising.csv を読み込み，線形回帰による予測を行え．\n",
    "\n",
    "テレビ(TV)，ラジオ(Radio)，新聞(Newspaper)への広告から売り上げ(Sales)を予測せよ．"
   ]
  },
  {
   "cell_type": "code",
   "execution_count": null,
   "metadata": {
    "colab": {},
    "colab_type": "code",
    "id": "G1ew_8oHKumK"
   },
   "outputs": [],
   "source": []
  },
  {
   "cell_type": "markdown",
   "metadata": {
    "colab_type": "text",
    "id": "mT_qxjrCKumM"
   },
   "source": [
    "### 問題\n",
    "\n",
    "http://logopt.com/data/Boston.csv のBostonの住宅データを用いて回帰分析を行え．\n",
    "\n",
    "データの詳細については，\n",
    "https://archive.ics.uci.edu/ml/datasets/Housing\n",
    "を参照せよ．\n",
    "\n",
    "medvが住宅の価格で，他のデータ（犯罪率や人口など）から予測する．"
   ]
  },
  {
   "cell_type": "code",
   "execution_count": null,
   "metadata": {
    "colab": {},
    "colab_type": "code",
    "id": "560H6PecKumN"
   },
   "outputs": [],
   "source": []
  },
  {
   "cell_type": "markdown",
   "metadata": {
    "colab_type": "text",
    "id": "TuNYboENKumR"
   },
   "source": [
    "### 問題\n",
    "\n",
    "http://logopt.com/data/SATGPA.csv データを用いて，2種類のSATの成績からGPAを予測せよ．"
   ]
  },
  {
   "cell_type": "code",
   "execution_count": null,
   "metadata": {
    "colab": {},
    "colab_type": "code",
    "id": "v-nBTm8eKumS"
   },
   "outputs": [],
   "source": []
  },
  {
   "cell_type": "markdown",
   "metadata": {
    "colab_type": "text",
    "id": "5h9QOxfhKumW"
   },
   "source": [
    "### 一般化線形モデルについて\n",
    "\n",
    "基本となる線形回帰だと，独立変数 $x^{(i)}$ を用いて従属変数 $y^{(i)}$ を推定する．上付き添え字の$(i)$ はトレーニングデータのインデックスを表す．評価関数は最小自乗誤差であり，それを最小にするような重みベクトル $w$ を求める．\n",
    "\n",
    "通常の線形回帰（最小自乗モデル）は，一般化線形モデル的に見直すと以下のように解釈できる．\n",
    "\n",
    "1. 従属変数 $y^{(i)}$ は平均 $\\mu^{(i)}$，標準偏差 $\\sigma$ の正規分布 $N(\\mu^{(i)},\\sigma^2)$ にしたがう．\n",
    "2. 線形予測子 $z^{(i)}$ を独立変数 $x^{(i)}$ を用いて $z^{(i)} = w x^{(i)} $ と定義する．ここで $w$ は最適化するパラメータ（重み）である．\n",
    "3. リンク関数 $g$ を用いて  $\\mu^{(i)}$ と  $z^{(i)}$ を繋ぐが，線形モデルでは $g(\\mu) =\\mu$ である．"
   ]
  },
  {
   "cell_type": "markdown",
   "metadata": {
    "colab_type": "text",
    "id": "80IxRBOTKumX"
   },
   "source": [
    "### ロジスティック回帰\n",
    "\n",
    "titanicデータを用いる\n",
    "\n",
    "従属変数（予測するもの）は*survived*の列で，生き残ったか($=1$)，否か($=0$)を表す．\n",
    "\n",
    "このように $0$ か $1$ かを予測するのに線形回帰は不適当なので，ロジスティック回帰を用いる．\n",
    "\n",
    "一般化線形モデル(glm)を使えば，ほぼ同じように予測できる（性別sexと客室クラスpclassだけを用いる）．\n",
    "\n",
    "引数の*family* に *sm.families.Binomial()* を指定すれば良い．\n",
    "\n",
    "一般化線形モデルでの仮定は以下のようになる．\n",
    "\n",
    "1. 従属変数 $y^{{i}}$ は平均 $\\mu^{(i)}$ （表が出る確率）のコイン投げの分布(2項分布:binomial distribution)にしたがう．\n",
    "2. 線形予測子 $z^{(i)}$ を独立変数 $x^{(i)}$ を用いて $z^{(i)} = w x^{(i)} $ と定義する．(この部分は全部共通）\n",
    "3. リンク関数 $g$ を用いて  $\\mu^{(i)}$ と  $z^{(i)}$ を繋ぐが，$\\mu$ は確率なので $[0,1]$ の範囲しかとらない，一方， $z$ は線形予測子なので $[-\\infty,+\\infty]$ の定義域をもつ．これを繋ぐために以下のリンク関数 $g$ を用いる．\n",
    "\n",
    "$$z = g(\\mu) = \\log \\left( \\frac{\\mu}{1-\\mu} \\right) $$\n",
    "\n",
    "これをロジット関数とよぶ．\n",
    "歴史的な都合で $g$ は $\\mu$ から $z$ への写像となっているが，逆写像として考えた方がわかりやすい．すなわち，線形予測子 $z$ から分布の平均 $\\mu$ を逆写像 $g^{-1}$ で写すのである．この関数は\n",
    "\n",
    "\n",
    "$$\\mu = \\frac{ \\exp (z) }{ 1+\\exp (z)} $$ となり，いわゆるロジスティック関数である．\n",
    "\n",
    "\n",
    "### 例題\n",
    "\n",
    "titanic号で生存したか否かの[データセット](https://www.kaggle.com/c/titanic/data)にロジスティック回帰を適用してみる．\n"
   ]
  },
  {
   "cell_type": "code",
   "execution_count": null,
   "metadata": {
    "colab": {
     "base_uri": "https://localhost:8080/",
     "height": 225
    },
    "colab_type": "code",
    "id": "3GTM2Y1rKumZ",
    "outputId": "c0c1c454-b9c8-4d0b-92b0-09c8ef154f72"
   },
   "outputs": [],
   "source": [
    "titanic = pd.read_csv('http://logopt.com/data/titanic.csv',index_col=0)\n",
    "titanic.head()"
   ]
  },
  {
   "cell_type": "code",
   "execution_count": null,
   "metadata": {
    "colab": {
     "base_uri": "https://localhost:8080/",
     "height": 442
    },
    "colab_type": "code",
    "id": "UImpYd2eKumb",
    "outputId": "37a8d3cc-54f4-48f9-cbe4-a8fd3664f214"
   },
   "outputs": [],
   "source": [
    "import statsmodels.api as sm\n",
    "model = smf.glm(formula=\"Survived ~ Sex + Pclass + Fare + SibSp + Parch\", data=titanic, family= sm.families.Binomial() )\n",
    "res = model.fit() #学習\n",
    "print(res.summary2())"
   ]
  },
  {
   "cell_type": "code",
   "execution_count": null,
   "metadata": {
    "colab": {
     "base_uri": "https://localhost:8080/",
     "height": 279
    },
    "colab_type": "code",
    "id": "d9zWWzWXKumf",
    "outputId": "b07879f9-9848-476c-c341-13e7d25fca18"
   },
   "outputs": [],
   "source": [
    "titanic['predict'] = res.predict()  #予測をpredict列に保管\n",
    "titanic.plot.scatter(x='predict',y='Survived'); # 散布図に描画"
   ]
  },
  {
   "cell_type": "markdown",
   "metadata": {
    "colab_type": "text",
    "id": "izPno4zAKumi"
   },
   "source": [
    "### 問題\n",
    "\n",
    "\"http://logopt.com/data/cancer.csv\" にある胸部癌か否かを判定するデータセットを用いて分類を行え．\n",
    "\n",
    "最初の列diagnosisが癌か否かを表すものであり，'M'が悪性（malignant），'B'が良性（benign）である．\n",
    "\n",
    "必要なら以下の文字列を切り貼りして用いよ．\n",
    "\n",
    "formula = \"\"\"diagnosis~radius_mean+texture_mean+texture_mean+perimeter_mean+area_mean+smoothness_mean+compactness_mean+\n",
    "concavity_mean+symmetry_mean+radius_worst+texture_worst+perimeter_worst+area_worst+smoothness_worst+\n",
    "compactness_worst+concavity_worst+symmetry_worst+fractal_dimension_worst\"\"\""
   ]
  },
  {
   "cell_type": "code",
   "execution_count": null,
   "metadata": {
    "colab": {
     "base_uri": "https://localhost:8080/",
     "height": 290
    },
    "colab_type": "code",
    "id": "xDXt2YigKumj",
    "outputId": "2bb16ce9-fd26-4923-e660-5975c1802626"
   },
   "outputs": [],
   "source": [
    "cancer = pd.read_csv(\"http://logopt.com/data/cancer.csv\", index_col=0)\n",
    "cancer.head()"
   ]
  },
  {
   "cell_type": "code",
   "execution_count": null,
   "metadata": {
    "colab": {},
    "colab_type": "code",
    "id": "M9iyfHjjKumn"
   },
   "outputs": [],
   "source": []
  },
  {
   "cell_type": "markdown",
   "metadata": {
    "colab_type": "text",
    "id": "Ry-qd1yCKumq"
   },
   "source": [
    "### 問題\n",
    "\n",
    "\"http://logopt.com/data/hospital.csv\" にある病院のデータを用いてロジスティック回帰を行え．\n",
    "\n",
    "従属変数*died*は死亡したか否かを表し，これを年齢(age)，施術(procedure)，性別(gender)，救急か否か(type)，入院日数(los: length of stay)から予測する． \n",
    "\n",
    "必要なら以下の文字列を使用しても良い．\n",
    "\n",
    "formula=\"died~procedure+age+gender+los+type\" \n"
   ]
  },
  {
   "cell_type": "code",
   "execution_count": null,
   "metadata": {
    "colab": {
     "base_uri": "https://localhost:8080/",
     "height": 195
    },
    "colab_type": "code",
    "id": "f5TlOOvIKumr",
    "outputId": "c4478e29-2c65-4d00-b6c8-2dd22be077c2"
   },
   "outputs": [],
   "source": [
    "hospital = pd.read_csv(\"http://logopt.com/data/hospital.csv\", index_col=0)\n",
    "hospital.head()"
   ]
  },
  {
   "cell_type": "code",
   "execution_count": null,
   "metadata": {
    "colab": {},
    "colab_type": "code",
    "id": "AAdZgg5CKumv"
   },
   "outputs": [],
   "source": []
  },
  {
   "cell_type": "markdown",
   "metadata": {
    "colab_type": "text",
    "id": "W_tDgEQdKumx"
   },
   "source": [
    "### Poisson回帰\n",
    "\n",
    "Poisson回帰は救急車の出動回数などの負の値をとらない**カウントデータ**もしくはその発生率を予測する際に用いられる．\n",
    "\n",
    "この場合には，従属変数が $0$ 以上の値になるので，一般化線形モデルでの仮定は以下のようになる．\n",
    "\n",
    "1. 従属変数 $y^{{i}}$ は平均 $\\mu^{(i)}$ のPoisson分布にしたがう．\n",
    "2. 線形予測子 $z^{(i)}$ を独立変数 $x^{(i)}$ を用いて $z^{(i)} = w x^{(i)} $ と定義する．(この部分は全部共通）\n",
    "3. リンク関数 $g$ を用いて  $\\mu^{(i)}$ と  $z^{(i)}$ を繋ぐが，$\\mu$ は $0$ 以上で $z$ は $[-\\infty,+\\infty]$ の定義域をもつ．これを繋ぐために以下のリンク関数 $g$ を用いる．\n",
    "\n",
    "$$z = g(\\mu) = \\log (\\mu)$$\n",
    "\n",
    "$g$ の逆写像は指数関数\n",
    "$$ \\mu = \\exp (z) $$ である．\n",
    "\n",
    "一般化線形モデル(glm)を使えば，ほぼ同じように予測できる．\n",
    "\n",
    "引数の*family* に *sm.families.Poisson()* を指定すれば良い．\n",
    "\n",
    "### 例題\n",
    "\n",
    "\"http://logopt.com/data/hospital-stay.csv\" にある病院の入院日数のデータセットを用いてPoisson回帰を解説する．\n",
    "従属変数である*los*（入院日数：length of stay)を，性別(gender)，救急か否か(type1)，75歳以上か(age75)から予測する．\n",
    "\n",
    "入院日数は負の値をとらない，いわゆるカウントデータであるので，Poisson回帰を適用する．"
   ]
  },
  {
   "cell_type": "code",
   "execution_count": null,
   "metadata": {
    "colab": {},
    "colab_type": "code",
    "id": "wKsseQtrKumy"
   },
   "outputs": [],
   "source": [
    "import pandas as pd\n",
    "import statsmodels.api as sm\n",
    "import statsmodels.formula.api as smf\n",
    "%matplotlib inline"
   ]
  },
  {
   "cell_type": "code",
   "execution_count": null,
   "metadata": {
    "colab": {
     "base_uri": "https://localhost:8080/",
     "height": 195
    },
    "colab_type": "code",
    "id": "h0D8CrtkKum1",
    "outputId": "7e4b71be-9829-4cbe-f5bc-d813ff093d40"
   },
   "outputs": [],
   "source": [
    "hospital = pd.read_csv(\"http://logopt.com/data/hospital-stay.csv\",index_col=0)\n",
    "hospital.head()"
   ]
  },
  {
   "cell_type": "code",
   "execution_count": null,
   "metadata": {
    "colab": {
     "base_uri": "https://localhost:8080/",
     "height": 351
    },
    "colab_type": "code",
    "id": "mBh76Ne1Kum3",
    "outputId": "7e822247-b4fd-48bb-8517-c960a42a679c"
   },
   "outputs": [],
   "source": [
    "model = smf.glm(formula=\"los ~ gender + type1 + age75 \", data=hospital, family= sm.families.Poisson() )\n",
    "res = model.fit()\n",
    "print(res.summary2())"
   ]
  },
  {
   "cell_type": "markdown",
   "metadata": {
    "colab_type": "text",
    "id": "dsGCO1plKum7"
   },
   "source": [
    "### 問題\n",
    "\"http://logopt.com/data/fishing.csv\" にある魚の数を予測するためのデータセットにPoisson回帰を適用せよ．\n",
    "従属変数は魚の数を表す totabundであり，それを密度(density)，平均深度(meandepth)，年度(year)から予測せよ．\n",
    "\n",
    "必要なら以下の文字列を用いよ．\n",
    "\n",
    "formula=\"totabund ~ density + meandepth + year \"\n"
   ]
  },
  {
   "cell_type": "code",
   "execution_count": null,
   "metadata": {
    "colab": {
     "base_uri": "https://localhost:8080/",
     "height": 195
    },
    "colab_type": "code",
    "id": "5xrIVz6-Kum7",
    "outputId": "1e2f4faa-808b-43ed-ec99-65e4791f7105"
   },
   "outputs": [],
   "source": [
    "fish = pd.read_csv(\"http://logopt.com/data/fishing.csv\",index_col=0)\n",
    "fish.head()"
   ]
  },
  {
   "cell_type": "code",
   "execution_count": null,
   "metadata": {
    "colab": {},
    "colab_type": "code",
    "id": "ledyV9K-Kum-"
   },
   "outputs": [],
   "source": []
  }
 ],
 "metadata": {
  "colab": {
   "collapsed_sections": [],
   "include_colab_link": true,
   "name": "statsmodels1.0.ipynb",
   "provenance": [],
   "version": "0.3.2"
  },
  "kernelspec": {
   "display_name": "Python 3",
   "language": "python",
   "name": "python3"
  },
  "language_info": {
   "codemirror_mode": {
    "name": "ipython",
    "version": 3
   },
   "file_extension": ".py",
   "mimetype": "text/x-python",
   "name": "python",
   "nbconvert_exporter": "python",
   "pygments_lexer": "ipython3",
   "version": "3.6.6"
  }
 },
 "nbformat": 4,
 "nbformat_minor": 4
}
