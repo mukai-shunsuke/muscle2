{
 "cells": [
  {
   "cell_type": "markdown",
   "metadata": {
    "colab_type": "text",
    "id": "IB0Kmqq7Kulp"
   },
   "source": [
    "# statsmodelsを用いた統計の例題と練習問題\n",
    "\n",
    "困ったら[公式ページ](https://www.statsmodels.org/stable/index.html)を見るのが一番\n",
    "\n",
    "statsmodelsがインストールされていない場合、自分でインストールする必要があります\n",
    "- 例えば、以下のコードでImportError: No module named statsmodelsが出た場合\n",
    "\n",
    "## 線形回帰\n",
    "\n",
    "http://logopt.com/data/Diamond.csv からダイアモンドの価格データを読み込み，線形回帰を適用する．\n",
    "\n",
    "列は [\"carat\",\"colour\",\"clarity\",\"certification\",\"price\"] であり，他の情報から価格(price)の予測を行う．\n",
    "\n",
    "1. データをpandasのデータフレームとして読み込む．\n",
    "2. statsmodels.formula.apiを **smf** (stats model formula)の名前でインポートする．\n",
    "3. smfの一般化線形モデル**glm**を用いてモデルインスタンスを生成する．\n",
    "このとき，列名を用いた**式(formula)**を文字列で記述し引数**formula**で，データは引数**data**にデータフレームとして入力する．\n",
    "4. モデルインスタンスの**fitメソッド**で学習を行う．\n",
    "5. モデルインスタンスの**summary(2)**メソッドで結果を見る．\n"
   ]
  },
  {
   "cell_type": "code",
   "execution_count": 1,
   "metadata": {
    "colab": {
     "base_uri": "https://localhost:8080/",
     "height": 195
    },
    "colab_type": "code",
    "id": "LKwvxRd4Kulr",
    "outputId": "da1fd906-6829-4dd2-e5bf-8488e58681d7"
   },
   "outputs": [
    {
     "data": {
      "text/html": [
       "<div>\n",
       "<style scoped>\n",
       "    .dataframe tbody tr th:only-of-type {\n",
       "        vertical-align: middle;\n",
       "    }\n",
       "\n",
       "    .dataframe tbody tr th {\n",
       "        vertical-align: top;\n",
       "    }\n",
       "\n",
       "    .dataframe thead th {\n",
       "        text-align: right;\n",
       "    }\n",
       "</style>\n",
       "<table border=\"1\" class=\"dataframe\">\n",
       "  <thead>\n",
       "    <tr style=\"text-align: right;\">\n",
       "      <th></th>\n",
       "      <th>carat</th>\n",
       "      <th>colour</th>\n",
       "      <th>clarity</th>\n",
       "      <th>certification</th>\n",
       "      <th>price</th>\n",
       "    </tr>\n",
       "  </thead>\n",
       "  <tbody>\n",
       "    <tr>\n",
       "      <th>1</th>\n",
       "      <td>0.30</td>\n",
       "      <td>D</td>\n",
       "      <td>VS2</td>\n",
       "      <td>GIA</td>\n",
       "      <td>1302</td>\n",
       "    </tr>\n",
       "    <tr>\n",
       "      <th>2</th>\n",
       "      <td>0.30</td>\n",
       "      <td>E</td>\n",
       "      <td>VS1</td>\n",
       "      <td>GIA</td>\n",
       "      <td>1510</td>\n",
       "    </tr>\n",
       "    <tr>\n",
       "      <th>3</th>\n",
       "      <td>0.30</td>\n",
       "      <td>G</td>\n",
       "      <td>VVS1</td>\n",
       "      <td>GIA</td>\n",
       "      <td>1510</td>\n",
       "    </tr>\n",
       "    <tr>\n",
       "      <th>4</th>\n",
       "      <td>0.30</td>\n",
       "      <td>G</td>\n",
       "      <td>VS1</td>\n",
       "      <td>GIA</td>\n",
       "      <td>1260</td>\n",
       "    </tr>\n",
       "    <tr>\n",
       "      <th>5</th>\n",
       "      <td>0.31</td>\n",
       "      <td>D</td>\n",
       "      <td>VS1</td>\n",
       "      <td>GIA</td>\n",
       "      <td>1641</td>\n",
       "    </tr>\n",
       "  </tbody>\n",
       "</table>\n",
       "</div>"
      ],
      "text/plain": [
       "   carat colour clarity certification  price\n",
       "1   0.30      D     VS2           GIA   1302\n",
       "2   0.30      E     VS1           GIA   1510\n",
       "3   0.30      G    VVS1           GIA   1510\n",
       "4   0.30      G     VS1           GIA   1260\n",
       "5   0.31      D     VS1           GIA   1641"
      ]
     },
     "execution_count": 1,
     "metadata": {},
     "output_type": "execute_result"
    }
   ],
   "source": [
    "import pandas as pd\n",
    "%matplotlib inline\n",
    "diamond = pd.read_csv('http://logopt.com/data/Diamond.csv', index_col=0)\n",
    "diamond.head()"
   ]
  },
  {
   "cell_type": "code",
   "execution_count": 2,
   "metadata": {
    "colab": {
     "base_uri": "https://localhost:8080/",
     "height": 510
    },
    "colab_type": "code",
    "id": "Ujzn1WyOKul2",
    "outputId": "f82de469-8deb-4082-f051-0fe9f2842a8c"
   },
   "outputs": [
    {
     "name": "stdout",
     "output_type": "stream",
     "text": [
      "                      Results: Generalized linear model\n",
      "==============================================================================\n",
      "Model:                   GLM                 AIC:               4931.3248     \n",
      "Link Function:           Identity            BIC:               148870958.0331\n",
      "Dependent Variable:      price               Log-Likelihood:    -2452.7       \n",
      "Date:                    2024-04-22 14:28    LL-Null:           -5827.9       \n",
      "No. Observations:        308                 Deviance:          1.4887e+08    \n",
      "Df Model:                12                  Pearson chi2:      1.49e+08      \n",
      "Df Residuals:            295                 Scale:             5.0465e+05    \n",
      "Method:                  IRLS                                                 \n",
      "------------------------------------------------------------------------------\n",
      "                       Coef.    Std.Err.    z     P>|z|    [0.025     0.975]  \n",
      "------------------------------------------------------------------------------\n",
      "Intercept              169.1760 255.0156   0.6634 0.5071  -330.6454   668.9975\n",
      "colour[T.E]          -1439.0853 207.9816  -6.9193 0.0000 -1846.7217 -1031.4490\n",
      "colour[T.F]          -1841.6905 195.2316  -9.4334 0.0000 -2224.3375 -1459.0436\n",
      "colour[T.G]          -2176.6722 200.3933 -10.8620 0.0000 -2569.4359 -1783.9085\n",
      "colour[T.H]          -2747.1500 202.9140 -13.5385 0.0000 -3144.8541 -2349.4459\n",
      "colour[T.I]          -3313.1024 212.7145 -15.5753 0.0000 -3730.0152 -2896.1896\n",
      "clarity[T.VS1]       -1474.5661 159.6750  -9.2348 0.0000 -1787.5234 -1161.6089\n",
      "clarity[T.VS2]       -1792.0109 171.1855 -10.4682 0.0000 -2127.5283 -1456.4936\n",
      "clarity[T.VVS1]       -689.2904 159.9250  -4.3101 0.0000 -1002.7377  -375.8431\n",
      "clarity[T.VVS2]      -1191.1643 148.7582  -8.0074 0.0000 -1482.7249  -899.6036\n",
      "certification[T.HRD]    15.2267 107.2475   0.1420 0.8871  -194.9745   225.4280\n",
      "certification[T.IGI]   141.2624 128.2585   1.1014 0.2707  -110.1195   392.6444\n",
      "carat                12766.3960 190.0244  67.1829 0.0000 12393.9549 13138.8370\n",
      "==============================================================================\n",
      "\n"
     ]
    }
   ],
   "source": [
    "import statsmodels.formula.api as smf\n",
    "model = smf.glm('price ~ carat + colour + clarity +certification', diamond) \n",
    "fit = model.fit()                                \n",
    "print(fit.summary2())    "
   ]
  },
  {
   "cell_type": "markdown",
   "metadata": {
    "colab_type": "text",
    "id": "oToKe-q0Kul8"
   },
   "source": [
    "### サマリーの見方\n",
    "\n",
    "- No. Observations : サンプル数 (=308)\n",
    "- Df Model : 自由度(Degree of Freedom) 変数の数なので $12$   \n",
    "- AIC : [赤池情報量基準(Akaike Information Criterion) ](https://ja.wikipedia.org/wiki/%E8%B5%A4%E6%B1%A0%E6%83%85%E5%A0%B1%E9%87%8F%E8%A6%8F%E6%BA%96)\n",
    "($=4931.3248 = -2 \\times 対数尤度 + 2 \\times (自由度+1) = -2 \\times (-2452.7) +2 \\times (12+1)$ )　(小さいほどモデルの適合度が良い）\n",
    "- Log-Likelihood: 尤度の対数（最大尤度のものを求めている）[最尤推定](https://ja.wikipedia.org/wiki/%E6%9C%80%E5%B0%A4%E6%8E%A8%E5%AE%9A)\n",
    "- Corf. : 係数（一番上のInterceptはy切片）\n",
    "- Std. Err. : 標準誤差\n",
    "- z : 標準偏差．大きいほど係数が信頼できる\n",
    "- P : P値（偶然|z|を超える確率）．小さいほど係数が信頼できる（以下の表参照）\n",
    "- [0.025, 0.975] : 係数の信頼区間\n",
    "\n",
    "| z (標準偏差) | P値 (確率） | 信頼度 |\n",
    "|:-----------|------------:|:------------:|\n",
    "| < -1.65 または > +1.65 | < 0.10 | 90%\n",
    "| < -1.96 または > +1.96 | < 0.05 | 95%\n",
    "| < -2.58 または > +2.58 |  < 0.01 | 99%  \n"
   ]
  },
  {
   "cell_type": "code",
   "execution_count": 3,
   "metadata": {
    "colab": {
     "base_uri": "https://localhost:8080/",
     "height": 279
    },
    "colab_type": "code",
    "id": "9WG_8kvkKul9",
    "outputId": "83925b2e-5706-4f32-c10e-ca97d2ab1546"
   },
   "outputs": [
    {
     "data": {
      "image/png": "[encoded data removed]",
      "text/plain": [
       "<Figure size 640x480 with 1 Axes>"
      ]
     },
     "metadata": {},
     "output_type": "display_data"
    }
   ],
   "source": [
    "diamond['predict'] = fit.predict() #予測を行い，結果を'predict'列に追加\n",
    "diamond.plot.scatter(x='predict',y='price'); #描画"
   ]
  },
  {
   "cell_type": "code",
   "execution_count": null,
   "metadata": {
    "colab": {},
    "colab_type": "code",
    "id": "koCKHVmVKumC"
   },
   "outputs": [],
   "source": []
  },
  {
   "cell_type": "markdown",
   "metadata": {
    "colab_type": "text",
    "id": "UNMl3ex4KumF"
   },
   "source": [
    "### 問題\n",
    "\n",
    "http://logopt.com/data/carprice.csv から車の価格データを読み込み，線形回帰による予測を行え．\n",
    "\n",
    "車種(Type)，100マイル走る際のガロン数（gpm100），都市部での1ガロンあたりの走行距離（MPGcity），高速道路での１ガロン当たりの走行距離（MPGhighway）から，価格(Price)を予測せよ．"
   ]
  },
  {
   "cell_type": "code",
   "execution_count": 11,
   "metadata": {
    "colab": {},
    "colab_type": "code",
    "id": "6h2Y5NJDKumG"
   },
   "outputs": [
    {
     "name": "stdout",
     "output_type": "stream",
     "text": [
      "                Results: Generalized linear model\n",
      "==================================================================\n",
      "Model:                 GLM               AIC:             301.0697\n",
      "Link Function:         Identity          BIC:             872.1398\n",
      "Dependent Variable:    Price             Log-Likelihood:  -141.53 \n",
      "Date:                  2024-04-23 13:04  LL-Null:         -177.25 \n",
      "No. Observations:      48                Deviance:        1023.1  \n",
      "Df Model:              8                 Pearson chi2:    1.02e+03\n",
      "Df Residuals:          39                Scale:           26.234  \n",
      "Method:                IRLS                                       \n",
      "------------------------------------------------------------------\n",
      "                 Coef.   Std.Err.    z    P>|z|    [0.025   0.975]\n",
      "------------------------------------------------------------------\n",
      "Intercept       -88.5286  60.0501 -1.4742 0.1404 -206.2247 29.1675\n",
      "Type[T.Large]     3.8307   3.0842  1.2421 0.2142   -2.2141  9.8756\n",
      "Type[T.Midsize]   3.6555   2.8538  1.2809 0.2002   -1.9378  9.2487\n",
      "Type[T.Small]     1.1712   3.3696  0.3476 0.7281   -5.4331  7.7756\n",
      "Type[T.Sporty]    2.2289   2.8486  0.7825 0.4339   -3.3542  7.8120\n",
      "Type[T.Van]     -11.0517   4.9340 -2.2399 0.0251  -20.7221 -1.3813\n",
      "gpm100           17.4271   7.5571  2.3060 0.0211    2.6154 32.2389\n",
      "MPGcity           0.0565   0.9166  0.0616 0.9509   -1.7401  1.8531\n",
      "MPGhighway        1.1467   0.6291  1.8227 0.0684   -0.0864  2.3797\n",
      "==================================================================\n",
      "\n"
     ]
    },
    {
     "data": {
      "image/png": "[encoded data removed]",
      "text/plain": [
       "<Figure size 640x480 with 1 Axes>"
      ]
     },
     "metadata": {},
     "output_type": "display_data"
    }
   ],
   "source": [
    "car = pd.read_csv('http://logopt.com/data/carprice.csv', index_col=0)\n",
    "car.head()\n",
    "\n",
    "model = smf.glm('Price ~ Type + gpm100 + MPGcity +MPGhighway', diamond) \n",
    "fit = model.fit()                                \n",
    "print(fit.summary2())  \n",
    "\n",
    "car['predict'] = fit.predict() #予測を行い，結果を'predict'列に追加\n",
    "car.plot.scatter(x='predict',y='Price'); #描画"
   ]
  },
  {
   "cell_type": "markdown",
   "metadata": {
    "colab_type": "text",
    "id": "YRaH83PkKumJ"
   },
   "source": [
    "### 問題\n",
    "\n",
    "広告のデータ http://logopt.com/data/Advertising.csv を読み込み，線形回帰による予測を行え．\n",
    "\n",
    "テレビ(TV)，ラジオ(Radio)，新聞(Newspaper)への広告から売り上げ(Sales)を予測せよ．"
   ]
  },
  {
   "cell_type": "code",
   "execution_count": 13,
   "metadata": {
    "colab": {},
    "colab_type": "code",
    "id": "G1ew_8oHKumK"
   },
   "outputs": [
    {
     "name": "stdout",
     "output_type": "stream",
     "text": [
      "              Results: Generalized linear model\n",
      "==============================================================\n",
      "Model:              GLM              AIC:            780.3622 \n",
      "Link Function:      Identity         BIC:            -481.6449\n",
      "Dependent Variable: Sales            Log-Likelihood: -386.18  \n",
      "Date:               2024-04-23 13:06 LL-Null:        -1241.6  \n",
      "No. Observations:   200              Deviance:       556.83   \n",
      "Df Model:           3                Pearson chi2:   557.     \n",
      "Df Residuals:       196              Scale:          2.8409   \n",
      "Method:             IRLS                                      \n",
      "---------------------------------------------------------------\n",
      "             Coef.   Std.Err.     z     P>|z|    [0.025  0.975]\n",
      "---------------------------------------------------------------\n",
      "Intercept    2.9389    0.3119   9.4223  0.0000   2.3276  3.5502\n",
      "TV           0.0458    0.0014  32.8086  0.0000   0.0430  0.0485\n",
      "Radio        0.1885    0.0086  21.8935  0.0000   0.1717  0.2054\n",
      "Newspaper   -0.0010    0.0059  -0.1767  0.8597  -0.0125  0.0105\n",
      "==============================================================\n",
      "\n"
     ]
    },
    {
     "data": {
      "image/png": "[encoded data removed]",
      "text/plain": [
       "<Figure size 640x480 with 1 Axes>"
      ]
     },
     "metadata": {},
     "output_type": "display_data"
    }
   ],
   "source": [
    "cm = pd.read_csv('http://logopt.com/data/Advertising.csv', index_col=0)\n",
    "cm.head()\n",
    "\n",
    "model = smf.glm('Sales ~ TV + Radio + Newspaper', cm) \n",
    "fit = model.fit()                                \n",
    "print(fit.summary2())  \n",
    "\n",
    "cm['predict'] = fit.predict() #予測を行い，結果を'predict'列に追加\n",
    "cm.plot.scatter(x='predict',y='Sales'); #描画"
   ]
  },
  {
   "cell_type": "markdown",
   "metadata": {
    "colab_type": "text",
    "id": "mT_qxjrCKumM"
   },
   "source": [
    "### 問題\n",
    "\n",
    "http://logopt.com/data/Boston.csv のBostonの住宅データを用いて回帰分析を行え．\n",
    "\n",
    "データの詳細については，\n",
    "https://archive.ics.uci.edu/ml/datasets/Housing\n",
    "を参照せよ．\n",
    "\n",
    "medvが住宅の価格で，他のデータ（犯罪率や人口など）から予測する．"
   ]
  },
  {
   "cell_type": "code",
   "execution_count": 14,
   "metadata": {
    "colab": {},
    "colab_type": "code",
    "id": "560H6PecKumN"
   },
   "outputs": [
    {
     "data": {
      "text/html": [
       "<div>\n",
       "<style scoped>\n",
       "    .dataframe tbody tr th:only-of-type {\n",
       "        vertical-align: middle;\n",
       "    }\n",
       "\n",
       "    .dataframe tbody tr th {\n",
       "        vertical-align: top;\n",
       "    }\n",
       "\n",
       "    .dataframe thead th {\n",
       "        text-align: right;\n",
       "    }\n",
       "</style>\n",
       "<table border=\"1\" class=\"dataframe\">\n",
       "  <thead>\n",
       "    <tr style=\"text-align: right;\">\n",
       "      <th></th>\n",
       "      <th>crim</th>\n",
       "      <th>zn</th>\n",
       "      <th>indus</th>\n",
       "      <th>chas</th>\n",
       "      <th>nox</th>\n",
       "      <th>rm</th>\n",
       "      <th>age</th>\n",
       "      <th>dis</th>\n",
       "      <th>rad</th>\n",
       "      <th>tax</th>\n",
       "      <th>ptratio</th>\n",
       "      <th>black</th>\n",
       "      <th>lstat</th>\n",
       "      <th>medv</th>\n",
       "    </tr>\n",
       "  </thead>\n",
       "  <tbody>\n",
       "    <tr>\n",
       "      <th>1</th>\n",
       "      <td>0.00632</td>\n",
       "      <td>18.0</td>\n",
       "      <td>2.31</td>\n",
       "      <td>0</td>\n",
       "      <td>0.538</td>\n",
       "      <td>6.575</td>\n",
       "      <td>65.2</td>\n",
       "      <td>4.0900</td>\n",
       "      <td>1</td>\n",
       "      <td>296</td>\n",
       "      <td>15.3</td>\n",
       "      <td>396.90</td>\n",
       "      <td>4.98</td>\n",
       "      <td>24.0</td>\n",
       "    </tr>\n",
       "    <tr>\n",
       "      <th>2</th>\n",
       "      <td>0.02731</td>\n",
       "      <td>0.0</td>\n",
       "      <td>7.07</td>\n",
       "      <td>0</td>\n",
       "      <td>0.469</td>\n",
       "      <td>6.421</td>\n",
       "      <td>78.9</td>\n",
       "      <td>4.9671</td>\n",
       "      <td>2</td>\n",
       "      <td>242</td>\n",
       "      <td>17.8</td>\n",
       "      <td>396.90</td>\n",
       "      <td>9.14</td>\n",
       "      <td>21.6</td>\n",
       "    </tr>\n",
       "    <tr>\n",
       "      <th>3</th>\n",
       "      <td>0.02729</td>\n",
       "      <td>0.0</td>\n",
       "      <td>7.07</td>\n",
       "      <td>0</td>\n",
       "      <td>0.469</td>\n",
       "      <td>7.185</td>\n",
       "      <td>61.1</td>\n",
       "      <td>4.9671</td>\n",
       "      <td>2</td>\n",
       "      <td>242</td>\n",
       "      <td>17.8</td>\n",
       "      <td>392.83</td>\n",
       "      <td>4.03</td>\n",
       "      <td>34.7</td>\n",
       "    </tr>\n",
       "    <tr>\n",
       "      <th>4</th>\n",
       "      <td>0.03237</td>\n",
       "      <td>0.0</td>\n",
       "      <td>2.18</td>\n",
       "      <td>0</td>\n",
       "      <td>0.458</td>\n",
       "      <td>6.998</td>\n",
       "      <td>45.8</td>\n",
       "      <td>6.0622</td>\n",
       "      <td>3</td>\n",
       "      <td>222</td>\n",
       "      <td>18.7</td>\n",
       "      <td>394.63</td>\n",
       "      <td>2.94</td>\n",
       "      <td>33.4</td>\n",
       "    </tr>\n",
       "    <tr>\n",
       "      <th>5</th>\n",
       "      <td>0.06905</td>\n",
       "      <td>0.0</td>\n",
       "      <td>2.18</td>\n",
       "      <td>0</td>\n",
       "      <td>0.458</td>\n",
       "      <td>7.147</td>\n",
       "      <td>54.2</td>\n",
       "      <td>6.0622</td>\n",
       "      <td>3</td>\n",
       "      <td>222</td>\n",
       "      <td>18.7</td>\n",
       "      <td>396.90</td>\n",
       "      <td>5.33</td>\n",
       "      <td>36.2</td>\n",
       "    </tr>\n",
       "  </tbody>\n",
       "</table>\n",
       "</div>"
      ],
      "text/plain": [
       "      crim    zn  indus  chas    nox     rm   age     dis  rad  tax  ptratio  \\\n",
       "1  0.00632  18.0   2.31     0  0.538  6.575  65.2  4.0900    1  296     15.3   \n",
       "2  0.02731   0.0   7.07     0  0.469  6.421  78.9  4.9671    2  242     17.8   \n",
       "3  0.02729   0.0   7.07     0  0.469  7.185  61.1  4.9671    2  242     17.8   \n",
       "4  0.03237   0.0   2.18     0  0.458  6.998  45.8  6.0622    3  222     18.7   \n",
       "5  0.06905   0.0   2.18     0  0.458  7.147  54.2  6.0622    3  222     18.7   \n",
       "\n",
       "    black  lstat  medv  \n",
       "1  396.90   4.98  24.0  \n",
       "2  396.90   9.14  21.6  \n",
       "3  392.83   4.03  34.7  \n",
       "4  394.63   2.94  33.4  \n",
       "5  396.90   5.33  36.2  "
      ]
     },
     "execution_count": 14,
     "metadata": {},
     "output_type": "execute_result"
    }
   ],
   "source": [
    "cm = pd.read_csv('http://logopt.com/data/Boston.csv', index_col=0)\n",
    "cm.head()\n",
    "\n"
   ]
  },
  {
   "cell_type": "code",
   "execution_count": 16,
   "metadata": {},
   "outputs": [
    {
     "name": "stdout",
     "output_type": "stream",
     "text": [
      "               Results: Generalized linear model\n",
      "===============================================================\n",
      "Model:              GLM              AIC:            3547.8532 \n",
      "Link Function:      Identity         BIC:            29347.7180\n",
      "Dependent Variable: medv             Log-Likelihood: -1770.9   \n",
      "Date:               2024-04-23 13:09 LL-Null:        -1850.2   \n",
      "No. Observations:   506              Deviance:       32480.    \n",
      "Df Model:           2                Pearson chi2:   3.25e+04  \n",
      "Df Residuals:       503              Scale:          64.572    \n",
      "Method:             IRLS                                       \n",
      "----------------------------------------------------------------\n",
      "             Coef.   Std.Err.     z     P>|z|    [0.025   0.975]\n",
      "----------------------------------------------------------------\n",
      "Intercept   31.3791    1.0335  30.3613  0.0000  29.3535  33.4048\n",
      "crim        -0.1866    0.0512  -3.6480  0.0003  -0.2869  -0.0864\n",
      "tax         -0.0200    0.0026  -7.6671  0.0000  -0.0251  -0.0149\n",
      "===============================================================\n",
      "\n"
     ]
    },
    {
     "data": {
      "image/png": "[encoded data removed]",
      "text/plain": [
       "<Figure size 640x480 with 1 Axes>"
      ]
     },
     "metadata": {},
     "output_type": "display_data"
    }
   ],
   "source": [
    "model = smf.glm('medv ~ crim + tax ', cm) \n",
    "fit = model.fit()                                \n",
    "print(fit.summary2())  \n",
    "\n",
    "cm['predict'] = fit.predict() #予測を行い，結果を'predict'列に追加\n",
    "cm.plot.scatter(x='predict',y='medv'); #描画"
   ]
  },
  {
   "cell_type": "markdown",
   "metadata": {
    "colab_type": "text",
    "id": "TuNYboENKumR"
   },
   "source": [
    "### 問題\n",
    "\n",
    "http://logopt.com/data/SATGPA.csv データを用いて，2種類のSATの成績からGPAを予測せよ．"
   ]
  },
  {
   "cell_type": "code",
   "execution_count": 17,
   "metadata": {
    "colab": {},
    "colab_type": "code",
    "id": "v-nBTm8eKumS"
   },
   "outputs": [
    {
     "data": {
      "text/html": [
       "<div>\n",
       "<style scoped>\n",
       "    .dataframe tbody tr th:only-of-type {\n",
       "        vertical-align: middle;\n",
       "    }\n",
       "\n",
       "    .dataframe tbody tr th {\n",
       "        vertical-align: top;\n",
       "    }\n",
       "\n",
       "    .dataframe thead th {\n",
       "        text-align: right;\n",
       "    }\n",
       "</style>\n",
       "<table border=\"1\" class=\"dataframe\">\n",
       "  <thead>\n",
       "    <tr style=\"text-align: right;\">\n",
       "      <th></th>\n",
       "      <th>MathSAT</th>\n",
       "      <th>VerbalSAT</th>\n",
       "      <th>GPA</th>\n",
       "    </tr>\n",
       "  </thead>\n",
       "  <tbody>\n",
       "    <tr>\n",
       "      <th>1</th>\n",
       "      <td>580</td>\n",
       "      <td>420</td>\n",
       "      <td>2.90</td>\n",
       "    </tr>\n",
       "    <tr>\n",
       "      <th>2</th>\n",
       "      <td>670</td>\n",
       "      <td>530</td>\n",
       "      <td>2.83</td>\n",
       "    </tr>\n",
       "    <tr>\n",
       "      <th>3</th>\n",
       "      <td>680</td>\n",
       "      <td>540</td>\n",
       "      <td>2.90</td>\n",
       "    </tr>\n",
       "    <tr>\n",
       "      <th>4</th>\n",
       "      <td>630</td>\n",
       "      <td>640</td>\n",
       "      <td>3.30</td>\n",
       "    </tr>\n",
       "    <tr>\n",
       "      <th>5</th>\n",
       "      <td>620</td>\n",
       "      <td>630</td>\n",
       "      <td>3.61</td>\n",
       "    </tr>\n",
       "  </tbody>\n",
       "</table>\n",
       "</div>"
      ],
      "text/plain": [
       "   MathSAT  VerbalSAT   GPA\n",
       "1      580        420  2.90\n",
       "2      670        530  2.83\n",
       "3      680        540  2.90\n",
       "4      630        640  3.30\n",
       "5      620        630  3.61"
      ]
     },
     "execution_count": 17,
     "metadata": {},
     "output_type": "execute_result"
    }
   ],
   "source": [
    "cm = pd.read_csv('http://logopt.com/data/SATGPA.csv', index_col=0)\n",
    "cm.head()\n",
    "\n"
   ]
  },
  {
   "cell_type": "code",
   "execution_count": 18,
   "metadata": {},
   "outputs": [
    {
     "name": "stdout",
     "output_type": "stream",
     "text": [
      "              Results: Generalized linear model\n",
      "=============================================================\n",
      "Model:              GLM              AIC:            16.4610 \n",
      "Link Function:      Identity         BIC:            -64.5663\n",
      "Dependent Variable: GPA              Log-Likelihood: -5.2305 \n",
      "Date:               2024-04-23 13:10 LL-Null:        -6.0804 \n",
      "No. Observations:   24               Deviance:       2.1729  \n",
      "Df Model:           2                Pearson chi2:   2.17    \n",
      "Df Residuals:       21               Scale:          0.10347 \n",
      "Method:             IRLS                                     \n",
      "--------------------------------------------------------------\n",
      "            Coef.   Std.Err.     z     P>|z|    [0.025  0.975]\n",
      "--------------------------------------------------------------\n",
      "Intercept   2.7375    0.5632   4.8608  0.0000   1.6337  3.8413\n",
      "MathSAT    -0.0004    0.0010  -0.3883  0.6978  -0.0023  0.0015\n",
      "VerbalSAT   0.0011    0.0009   1.1952  0.2320  -0.0007  0.0029\n",
      "=============================================================\n",
      "\n"
     ]
    },
    {
     "data": {
      "image/png": "[encoded data removed]",
      "text/plain": [
       "<Figure size 640x480 with 1 Axes>"
      ]
     },
     "metadata": {},
     "output_type": "display_data"
    }
   ],
   "source": [
    "model = smf.glm('GPA ~ MathSAT + VerbalSAT', cm) \n",
    "fit = model.fit()                                \n",
    "print(fit.summary2())  \n",
    "\n",
    "cm['predict'] = fit.predict() #予測を行い，結果を'predict'列に追加\n",
    "cm.plot.scatter(x='predict',y='GPA'); #描画"
   ]
  },
  {
   "cell_type": "markdown",
   "metadata": {
    "colab_type": "text",
    "id": "5h9QOxfhKumW"
   },
   "source": [
    "### 一般化線形モデルについて\n",
    "\n",
    "基本となる線形回帰だと，独立変数 $x^{(i)}$ を用いて従属変数 $y^{(i)}$ を推定する．上付き添え字の$(i)$ はトレーニングデータのインデックスを表す．評価関数は最小自乗誤差であり，それを最小にするような重みベクトル $w$ を求める．\n",
    "\n",
    "通常の線形回帰（最小自乗モデル）は，一般化線形モデル的に見直すと以下のように解釈できる．\n",
    "\n",
    "1. 従属変数 $y^{(i)}$ は平均 $\\mu^{(i)}$，標準偏差 $\\sigma$ の正規分布 $N(\\mu^{(i)},\\sigma^2)$ にしたがう．\n",
    "2. 線形予測子 $z^{(i)}$ を独立変数 $x^{(i)}$ を用いて $z^{(i)} = w x^{(i)} $ と定義する．ここで $w$ は最適化するパラメータ（重み）である．\n",
    "3. リンク関数 $g$ を用いて  $\\mu^{(i)}$ と  $z^{(i)}$ を繋ぐが，線形モデルでは $g(\\mu) =\\mu$ である．"
   ]
  },
  {
   "cell_type": "markdown",
   "metadata": {
    "colab_type": "text",
    "id": "80IxRBOTKumX"
   },
   "source": [
    "### ロジスティック回帰\n",
    "\n",
    "titanicデータを用いる\n",
    "\n",
    "従属変数（予測するもの）は*survived*の列で，生き残ったか($=1$)，否か($=0$)を表す．\n",
    "\n",
    "このように $0$ か $1$ かを予測するのに線形回帰は不適当なので，ロジスティック回帰を用いる．\n",
    "\n",
    "一般化線形モデル(glm)を使えば，ほぼ同じように予測できる（性別sexと客室クラスpclassだけを用いる）．\n",
    "\n",
    "引数の*family* に *sm.families.Binomial()* を指定すれば良い．\n",
    "\n",
    "一般化線形モデルでの仮定は以下のようになる．\n",
    "\n",
    "1. 従属変数 $y^{{i}}$ は平均 $\\mu^{(i)}$ （表が出る確率）のコイン投げの分布(2項分布:binomial distribution)にしたがう．\n",
    "2. 線形予測子 $z^{(i)}$ を独立変数 $x^{(i)}$ を用いて $z^{(i)} = w x^{(i)} $ と定義する．(この部分は全部共通）\n",
    "3. リンク関数 $g$ を用いて  $\\mu^{(i)}$ と  $z^{(i)}$ を繋ぐが，$\\mu$ は確率なので $[0,1]$ の範囲しかとらない，一方， $z$ は線形予測子なので $[-\\infty,+\\infty]$ の定義域をもつ．これを繋ぐために以下のリンク関数 $g$ を用いる．\n",
    "\n",
    "$$z = g(\\mu) = \\log \\left( \\frac{\\mu}{1-\\mu} \\right) $$\n",
    "\n",
    "これをロジット関数とよぶ．\n",
    "歴史的な都合で $g$ は $\\mu$ から $z$ への写像となっているが，逆写像として考えた方がわかりやすい．すなわち，線形予測子 $z$ から分布の平均 $\\mu$ を逆写像 $g^{-1}$ で写すのである．この関数は\n",
    "\n",
    "\n",
    "$$\\mu = \\frac{ \\exp (z) }{ 1+\\exp (z)} $$ となり，いわゆるロジスティック関数である．\n",
    "\n",
    "\n",
    "### 例題\n",
    "\n",
    "titanic号で生存したか否かの[データセット](https://www.kaggle.com/c/titanic/data)にロジスティック回帰を適用してみる．\n"
   ]
  },
  {
   "cell_type": "code",
   "execution_count": 19,
   "metadata": {
    "colab": {
     "base_uri": "https://localhost:8080/",
     "height": 225
    },
    "colab_type": "code",
    "id": "3GTM2Y1rKumZ",
    "outputId": "c0c1c454-b9c8-4d0b-92b0-09c8ef154f72"
   },
   "outputs": [
    {
     "data": {
      "text/html": [
       "<div>\n",
       "<style scoped>\n",
       "    .dataframe tbody tr th:only-of-type {\n",
       "        vertical-align: middle;\n",
       "    }\n",
       "\n",
       "    .dataframe tbody tr th {\n",
       "        vertical-align: top;\n",
       "    }\n",
       "\n",
       "    .dataframe thead th {\n",
       "        text-align: right;\n",
       "    }\n",
       "</style>\n",
       "<table border=\"1\" class=\"dataframe\">\n",
       "  <thead>\n",
       "    <tr style=\"text-align: right;\">\n",
       "      <th></th>\n",
       "      <th>Survived</th>\n",
       "      <th>Pclass</th>\n",
       "      <th>Name</th>\n",
       "      <th>Sex</th>\n",
       "      <th>Age</th>\n",
       "      <th>SibSp</th>\n",
       "      <th>Parch</th>\n",
       "      <th>Ticket</th>\n",
       "      <th>Fare</th>\n",
       "      <th>Cabin</th>\n",
       "      <th>Embarked</th>\n",
       "    </tr>\n",
       "    <tr>\n",
       "      <th>PassengerId</th>\n",
       "      <th></th>\n",
       "      <th></th>\n",
       "      <th></th>\n",
       "      <th></th>\n",
       "      <th></th>\n",
       "      <th></th>\n",
       "      <th></th>\n",
       "      <th></th>\n",
       "      <th></th>\n",
       "      <th></th>\n",
       "      <th></th>\n",
       "    </tr>\n",
       "  </thead>\n",
       "  <tbody>\n",
       "    <tr>\n",
       "      <th>1</th>\n",
       "      <td>0</td>\n",
       "      <td>3</td>\n",
       "      <td>Braund, Mr. Owen Harris</td>\n",
       "      <td>male</td>\n",
       "      <td>22.0</td>\n",
       "      <td>1</td>\n",
       "      <td>0</td>\n",
       "      <td>A/5 21171</td>\n",
       "      <td>7.2500</td>\n",
       "      <td>NaN</td>\n",
       "      <td>S</td>\n",
       "    </tr>\n",
       "    <tr>\n",
       "      <th>2</th>\n",
       "      <td>1</td>\n",
       "      <td>1</td>\n",
       "      <td>Cumings, Mrs. John Bradley (Florence Briggs Th...</td>\n",
       "      <td>female</td>\n",
       "      <td>38.0</td>\n",
       "      <td>1</td>\n",
       "      <td>0</td>\n",
       "      <td>PC 17599</td>\n",
       "      <td>71.2833</td>\n",
       "      <td>C85</td>\n",
       "      <td>C</td>\n",
       "    </tr>\n",
       "    <tr>\n",
       "      <th>3</th>\n",
       "      <td>1</td>\n",
       "      <td>3</td>\n",
       "      <td>Heikkinen, Miss. Laina</td>\n",
       "      <td>female</td>\n",
       "      <td>26.0</td>\n",
       "      <td>0</td>\n",
       "      <td>0</td>\n",
       "      <td>STON/O2. 3101282</td>\n",
       "      <td>7.9250</td>\n",
       "      <td>NaN</td>\n",
       "      <td>S</td>\n",
       "    </tr>\n",
       "    <tr>\n",
       "      <th>4</th>\n",
       "      <td>1</td>\n",
       "      <td>1</td>\n",
       "      <td>Futrelle, Mrs. Jacques Heath (Lily May Peel)</td>\n",
       "      <td>female</td>\n",
       "      <td>35.0</td>\n",
       "      <td>1</td>\n",
       "      <td>0</td>\n",
       "      <td>113803</td>\n",
       "      <td>53.1000</td>\n",
       "      <td>C123</td>\n",
       "      <td>S</td>\n",
       "    </tr>\n",
       "    <tr>\n",
       "      <th>5</th>\n",
       "      <td>0</td>\n",
       "      <td>3</td>\n",
       "      <td>Allen, Mr. William Henry</td>\n",
       "      <td>male</td>\n",
       "      <td>35.0</td>\n",
       "      <td>0</td>\n",
       "      <td>0</td>\n",
       "      <td>373450</td>\n",
       "      <td>8.0500</td>\n",
       "      <td>NaN</td>\n",
       "      <td>S</td>\n",
       "    </tr>\n",
       "  </tbody>\n",
       "</table>\n",
       "</div>"
      ],
      "text/plain": [
       "             Survived  Pclass  \\\n",
       "PassengerId                     \n",
       "1                   0       3   \n",
       "2                   1       1   \n",
       "3                   1       3   \n",
       "4                   1       1   \n",
       "5                   0       3   \n",
       "\n",
       "                                                          Name     Sex   Age  \\\n",
       "PassengerId                                                                    \n",
       "1                                      Braund, Mr. Owen Harris    male  22.0   \n",
       "2            Cumings, Mrs. John Bradley (Florence Briggs Th...  female  38.0   \n",
       "3                                       Heikkinen, Miss. Laina  female  26.0   \n",
       "4                 Futrelle, Mrs. Jacques Heath (Lily May Peel)  female  35.0   \n",
       "5                                     Allen, Mr. William Henry    male  35.0   \n",
       "\n",
       "             SibSp  Parch            Ticket     Fare Cabin Embarked  \n",
       "PassengerId                                                          \n",
       "1                1      0         A/5 21171   7.2500   NaN        S  \n",
       "2                1      0          PC 17599  71.2833   C85        C  \n",
       "3                0      0  STON/O2. 3101282   7.9250   NaN        S  \n",
       "4                1      0            113803  53.1000  C123        S  \n",
       "5                0      0            373450   8.0500   NaN        S  "
      ]
     },
     "execution_count": 19,
     "metadata": {},
     "output_type": "execute_result"
    }
   ],
   "source": [
    "titanic = pd.read_csv('http://logopt.com/data/titanic.csv',index_col=0)\n",
    "titanic.head()"
   ]
  },
  {
   "cell_type": "code",
   "execution_count": 20,
   "metadata": {
    "colab": {
     "base_uri": "https://localhost:8080/",
     "height": 442
    },
    "colab_type": "code",
    "id": "UImpYd2eKumb",
    "outputId": "37a8d3cc-54f4-48f9-cbe4-a8fd3664f214"
   },
   "outputs": [
    {
     "name": "stdout",
     "output_type": "stream",
     "text": [
      "               Results: Generalized linear model\n",
      "===============================================================\n",
      "Model:              GLM              AIC:            828.7501  \n",
      "Link Function:      Logit            BIC:            -5194.4747\n",
      "Dependent Variable: Survived         Log-Likelihood: -408.38   \n",
      "Date:               2024-04-23 13:12 LL-Null:        -593.33   \n",
      "No. Observations:   891              Deviance:       816.75    \n",
      "Df Model:           5                Pearson chi2:   910.      \n",
      "Df Residuals:       885              Scale:          1.0000    \n",
      "Method:             IRLS                                       \n",
      "---------------------------------------------------------------\n",
      "                Coef.  Std.Err.    z     P>|z|   [0.025  0.975]\n",
      "---------------------------------------------------------------\n",
      "Intercept       3.1473   0.3752   8.3895 0.0000  2.4121  3.8826\n",
      "Sex[T.male]    -2.7594   0.1959 -14.0837 0.0000 -3.1434 -2.3754\n",
      "Pclass         -0.8360   0.1268  -6.5905 0.0000 -1.0846 -0.5874\n",
      "Fare            0.0034   0.0024   1.4508 0.1468 -0.0012  0.0080\n",
      "SibSp          -0.2564   0.1008  -2.5435 0.0110 -0.4539 -0.0588\n",
      "Parch          -0.0888   0.1132  -0.7842 0.4329 -0.3106  0.1331\n",
      "===============================================================\n",
      "\n"
     ]
    }
   ],
   "source": [
    "import statsmodels.api as sm\n",
    "model = smf.glm(formula=\"Survived ~ Sex + Pclass + Fare + SibSp + Parch\", data=titanic, family= sm.families.Binomial() )\n",
    "res = model.fit() #学習\n",
    "print(res.summary2())"
   ]
  },
  {
   "cell_type": "code",
   "execution_count": 21,
   "metadata": {
    "colab": {
     "base_uri": "https://localhost:8080/",
     "height": 279
    },
    "colab_type": "code",
    "id": "d9zWWzWXKumf",
    "outputId": "b07879f9-9848-476c-c341-13e7d25fca18"
   },
   "outputs": [
    {
     "data": {
      "image/png": "[encoded data removed]",
      "text/plain": [
       "<Figure size 640x480 with 1 Axes>"
      ]
     },
     "metadata": {},
     "output_type": "display_data"
    }
   ],
   "source": [
    "titanic['predict'] = res.predict()  #予測をpredict列に保管\n",
    "titanic.plot.scatter(x='predict',y='Survived'); # 散布図に描画"
   ]
  },
  {
   "cell_type": "markdown",
   "metadata": {
    "colab_type": "text",
    "id": "izPno4zAKumi"
   },
   "source": [
    "### 問題\n",
    "\n",
    "\"http://logopt.com/data/cancer.csv\" にある胸部癌か否かを判定するデータセットを用いて分類を行え．\n",
    "\n",
    "最初の列diagnosisが癌か否かを表すものであり，'M'が悪性（malignant），'B'が良性（benign）である．\n",
    "\n",
    "必要なら以下の文字列を切り貼りして用いよ．\n",
    "\n",
    "formula = \"\"\"diagnosis~radius_mean+texture_mean+texture_mean+perimeter_mean+area_mean+smoothness_mean+compactness_mean+\n",
    "concavity_mean+symmetry_mean+radius_worst+texture_worst+perimeter_worst+area_worst+smoothness_worst+\n",
    "compactness_worst+concavity_worst+symmetry_worst+fractal_dimension_worst\"\"\""
   ]
  },
  {
   "cell_type": "code",
   "execution_count": 22,
   "metadata": {
    "colab": {
     "base_uri": "https://localhost:8080/",
     "height": 290
    },
    "colab_type": "code",
    "id": "xDXt2YigKumj",
    "outputId": "2bb16ce9-fd26-4923-e660-5975c1802626"
   },
   "outputs": [
    {
     "data": {
      "text/html": [
       "<div>\n",
       "<style scoped>\n",
       "    .dataframe tbody tr th:only-of-type {\n",
       "        vertical-align: middle;\n",
       "    }\n",
       "\n",
       "    .dataframe tbody tr th {\n",
       "        vertical-align: top;\n",
       "    }\n",
       "\n",
       "    .dataframe thead th {\n",
       "        text-align: right;\n",
       "    }\n",
       "</style>\n",
       "<table border=\"1\" class=\"dataframe\">\n",
       "  <thead>\n",
       "    <tr style=\"text-align: right;\">\n",
       "      <th></th>\n",
       "      <th>diagnosis</th>\n",
       "      <th>radius_mean</th>\n",
       "      <th>texture_mean</th>\n",
       "      <th>perimeter_mean</th>\n",
       "      <th>area_mean</th>\n",
       "      <th>smoothness_mean</th>\n",
       "      <th>compactness_mean</th>\n",
       "      <th>concavity_mean</th>\n",
       "      <th>concave points_mean</th>\n",
       "      <th>symmetry_mean</th>\n",
       "      <th>...</th>\n",
       "      <th>radius_worst</th>\n",
       "      <th>texture_worst</th>\n",
       "      <th>perimeter_worst</th>\n",
       "      <th>area_worst</th>\n",
       "      <th>smoothness_worst</th>\n",
       "      <th>compactness_worst</th>\n",
       "      <th>concavity_worst</th>\n",
       "      <th>concave points_worst</th>\n",
       "      <th>symmetry_worst</th>\n",
       "      <th>fractal_dimension_worst</th>\n",
       "    </tr>\n",
       "    <tr>\n",
       "      <th>id</th>\n",
       "      <th></th>\n",
       "      <th></th>\n",
       "      <th></th>\n",
       "      <th></th>\n",
       "      <th></th>\n",
       "      <th></th>\n",
       "      <th></th>\n",
       "      <th></th>\n",
       "      <th></th>\n",
       "      <th></th>\n",
       "      <th></th>\n",
       "      <th></th>\n",
       "      <th></th>\n",
       "      <th></th>\n",
       "      <th></th>\n",
       "      <th></th>\n",
       "      <th></th>\n",
       "      <th></th>\n",
       "      <th></th>\n",
       "      <th></th>\n",
       "      <th></th>\n",
       "    </tr>\n",
       "  </thead>\n",
       "  <tbody>\n",
       "    <tr>\n",
       "      <th>842302</th>\n",
       "      <td>M</td>\n",
       "      <td>17.99</td>\n",
       "      <td>10.38</td>\n",
       "      <td>122.80</td>\n",
       "      <td>1001.0</td>\n",
       "      <td>0.11840</td>\n",
       "      <td>0.27760</td>\n",
       "      <td>0.3001</td>\n",
       "      <td>0.14710</td>\n",
       "      <td>0.2419</td>\n",
       "      <td>...</td>\n",
       "      <td>25.38</td>\n",
       "      <td>17.33</td>\n",
       "      <td>184.60</td>\n",
       "      <td>2019.0</td>\n",
       "      <td>0.1622</td>\n",
       "      <td>0.6656</td>\n",
       "      <td>0.7119</td>\n",
       "      <td>0.2654</td>\n",
       "      <td>0.4601</td>\n",
       "      <td>0.11890</td>\n",
       "    </tr>\n",
       "    <tr>\n",
       "      <th>842517</th>\n",
       "      <td>M</td>\n",
       "      <td>20.57</td>\n",
       "      <td>17.77</td>\n",
       "      <td>132.90</td>\n",
       "      <td>1326.0</td>\n",
       "      <td>0.08474</td>\n",
       "      <td>0.07864</td>\n",
       "      <td>0.0869</td>\n",
       "      <td>0.07017</td>\n",
       "      <td>0.1812</td>\n",
       "      <td>...</td>\n",
       "      <td>24.99</td>\n",
       "      <td>23.41</td>\n",
       "      <td>158.80</td>\n",
       "      <td>1956.0</td>\n",
       "      <td>0.1238</td>\n",
       "      <td>0.1866</td>\n",
       "      <td>0.2416</td>\n",
       "      <td>0.1860</td>\n",
       "      <td>0.2750</td>\n",
       "      <td>0.08902</td>\n",
       "    </tr>\n",
       "    <tr>\n",
       "      <th>84300903</th>\n",
       "      <td>M</td>\n",
       "      <td>19.69</td>\n",
       "      <td>21.25</td>\n",
       "      <td>130.00</td>\n",
       "      <td>1203.0</td>\n",
       "      <td>0.10960</td>\n",
       "      <td>0.15990</td>\n",
       "      <td>0.1974</td>\n",
       "      <td>0.12790</td>\n",
       "      <td>0.2069</td>\n",
       "      <td>...</td>\n",
       "      <td>23.57</td>\n",
       "      <td>25.53</td>\n",
       "      <td>152.50</td>\n",
       "      <td>1709.0</td>\n",
       "      <td>0.1444</td>\n",
       "      <td>0.4245</td>\n",
       "      <td>0.4504</td>\n",
       "      <td>0.2430</td>\n",
       "      <td>0.3613</td>\n",
       "      <td>0.08758</td>\n",
       "    </tr>\n",
       "    <tr>\n",
       "      <th>84348301</th>\n",
       "      <td>M</td>\n",
       "      <td>11.42</td>\n",
       "      <td>20.38</td>\n",
       "      <td>77.58</td>\n",
       "      <td>386.1</td>\n",
       "      <td>0.14250</td>\n",
       "      <td>0.28390</td>\n",
       "      <td>0.2414</td>\n",
       "      <td>0.10520</td>\n",
       "      <td>0.2597</td>\n",
       "      <td>...</td>\n",
       "      <td>14.91</td>\n",
       "      <td>26.50</td>\n",
       "      <td>98.87</td>\n",
       "      <td>567.7</td>\n",
       "      <td>0.2098</td>\n",
       "      <td>0.8663</td>\n",
       "      <td>0.6869</td>\n",
       "      <td>0.2575</td>\n",
       "      <td>0.6638</td>\n",
       "      <td>0.17300</td>\n",
       "    </tr>\n",
       "    <tr>\n",
       "      <th>84358402</th>\n",
       "      <td>M</td>\n",
       "      <td>20.29</td>\n",
       "      <td>14.34</td>\n",
       "      <td>135.10</td>\n",
       "      <td>1297.0</td>\n",
       "      <td>0.10030</td>\n",
       "      <td>0.13280</td>\n",
       "      <td>0.1980</td>\n",
       "      <td>0.10430</td>\n",
       "      <td>0.1809</td>\n",
       "      <td>...</td>\n",
       "      <td>22.54</td>\n",
       "      <td>16.67</td>\n",
       "      <td>152.20</td>\n",
       "      <td>1575.0</td>\n",
       "      <td>0.1374</td>\n",
       "      <td>0.2050</td>\n",
       "      <td>0.4000</td>\n",
       "      <td>0.1625</td>\n",
       "      <td>0.2364</td>\n",
       "      <td>0.07678</td>\n",
       "    </tr>\n",
       "  </tbody>\n",
       "</table>\n",
       "<p>5 rows × 31 columns</p>\n",
       "</div>"
      ],
      "text/plain": [
       "         diagnosis  radius_mean  texture_mean  perimeter_mean  area_mean  \\\n",
       "id                                                                         \n",
       "842302           M        17.99         10.38          122.80     1001.0   \n",
       "842517           M        20.57         17.77          132.90     1326.0   \n",
       "84300903         M        19.69         21.25          130.00     1203.0   \n",
       "84348301         M        11.42         20.38           77.58      386.1   \n",
       "84358402         M        20.29         14.34          135.10     1297.0   \n",
       "\n",
       "          smoothness_mean  compactness_mean  concavity_mean  \\\n",
       "id                                                            \n",
       "842302            0.11840           0.27760          0.3001   \n",
       "842517            0.08474           0.07864          0.0869   \n",
       "84300903          0.10960           0.15990          0.1974   \n",
       "84348301          0.14250           0.28390          0.2414   \n",
       "84358402          0.10030           0.13280          0.1980   \n",
       "\n",
       "          concave points_mean  symmetry_mean  ...  radius_worst  \\\n",
       "id                                            ...                 \n",
       "842302                0.14710         0.2419  ...         25.38   \n",
       "842517                0.07017         0.1812  ...         24.99   \n",
       "84300903              0.12790         0.2069  ...         23.57   \n",
       "84348301              0.10520         0.2597  ...         14.91   \n",
       "84358402              0.10430         0.1809  ...         22.54   \n",
       "\n",
       "          texture_worst  perimeter_worst  area_worst  smoothness_worst  \\\n",
       "id                                                                       \n",
       "842302            17.33           184.60      2019.0            0.1622   \n",
       "842517            23.41           158.80      1956.0            0.1238   \n",
       "84300903          25.53           152.50      1709.0            0.1444   \n",
       "84348301          26.50            98.87       567.7            0.2098   \n",
       "84358402          16.67           152.20      1575.0            0.1374   \n",
       "\n",
       "          compactness_worst  concavity_worst  concave points_worst  \\\n",
       "id                                                                   \n",
       "842302               0.6656           0.7119                0.2654   \n",
       "842517               0.1866           0.2416                0.1860   \n",
       "84300903             0.4245           0.4504                0.2430   \n",
       "84348301             0.8663           0.6869                0.2575   \n",
       "84358402             0.2050           0.4000                0.1625   \n",
       "\n",
       "          symmetry_worst  fractal_dimension_worst  \n",
       "id                                                 \n",
       "842302            0.4601                  0.11890  \n",
       "842517            0.2750                  0.08902  \n",
       "84300903          0.3613                  0.08758  \n",
       "84348301          0.6638                  0.17300  \n",
       "84358402          0.2364                  0.07678  \n",
       "\n",
       "[5 rows x 31 columns]"
      ]
     },
     "execution_count": 22,
     "metadata": {},
     "output_type": "execute_result"
    }
   ],
   "source": [
    "cancer = pd.read_csv(\"http://logopt.com/data/cancer.csv\", index_col=0)\n",
    "cancer.head()"
   ]
  },
  {
   "cell_type": "code",
   "execution_count": 24,
   "metadata": {
    "colab": {},
    "colab_type": "code",
    "id": "M9iyfHjjKumn"
   },
   "outputs": [
    {
     "name": "stdout",
     "output_type": "stream",
     "text": [
      "                       Results: Generalized linear model\n",
      "===============================================================================\n",
      "Model:              GLM                              AIC:            111.4234  \n",
      "Link Function:      Logit                            BIC:            -3420.0547\n",
      "Dependent Variable: ['diagnosis[B]', 'diagnosis[M]'] Log-Likelihood: -37.712   \n",
      "Date:               2024-04-23 13:19                 LL-Null:        -375.72   \n",
      "No. Observations:   569                              Deviance:       75.423    \n",
      "Df Model:           17                               Pearson chi2:   1.31e+03  \n",
      "Df Residuals:       551                              Scale:          1.0000    \n",
      "Method:             IRLS                                                       \n",
      "-------------------------------------------------------------------------------\n",
      "                             Coef.   Std.Err.    z    P>|z|    [0.025   0.975] \n",
      "-------------------------------------------------------------------------------\n",
      "Intercept                    48.2702  21.8490  2.2093 0.0272    5.4469  91.0934\n",
      "radius_mean                   8.1332   8.4593  0.9615 0.3363   -8.4466  24.7130\n",
      "texture_mean                 -0.3164   0.1955 -1.6183 0.1056   -0.6997   0.0668\n",
      "perimeter_mean               -1.1756   1.0558 -1.1134 0.2655   -3.2450   0.8938\n",
      "area_mean                     0.0086   0.0429  0.2018 0.8401   -0.0754   0.0927\n",
      "smoothness_mean            -146.0799  80.3425 -1.8182 0.0690 -303.5484  11.3886\n",
      "compactness_mean             92.1584  48.7922  1.8888 0.0589   -3.4726 187.7893\n",
      "concavity_mean              -35.5568  20.1710 -1.7628 0.0779  -75.0912   3.9776\n",
      "symmetry_mean               -13.4790  21.9779 -0.6133 0.5397  -56.5550  29.5970\n",
      "radius_worst                 -2.4205   2.6609 -0.9096 0.3630   -7.6358   2.7948\n",
      "texture_worst                -0.0937   0.1300 -0.7207 0.4711   -0.3485   0.1611\n",
      "perimeter_worst               0.1021   0.1951  0.5235 0.6006   -0.2803   0.4846\n",
      "area_worst                   -0.0094   0.0244 -0.3844 0.7007   -0.0571   0.0384\n",
      "smoothness_worst            -31.1289  33.8181 -0.9205 0.3573  -97.4110  35.1533\n",
      "compactness_worst           -10.1343  11.2082 -0.9042 0.3659  -32.1021  11.8334\n",
      "concavity_worst               0.6305   6.4414  0.0979 0.9220  -11.9943  13.2554\n",
      "symmetry_worst               -5.8440   8.6913 -0.6724 0.5013  -22.8786  11.1905\n",
      "fractal_dimension_worst      27.0251  48.7670  0.5542 0.5795  -68.5565 122.6067\n",
      "===============================================================================\n",
      "\n"
     ]
    },
    {
     "data": {
      "image/png": "[encoded data removed]",
      "text/plain": [
       "<Figure size 640x480 with 1 Axes>"
      ]
     },
     "metadata": {},
     "output_type": "display_data"
    }
   ],
   "source": [
    "formula=\"\"\"diagnosis~radius_mean+texture_mean+texture_mean+perimeter_mean+area_mean+smoothness_mean+compactness_mean+\n",
    "concavity_mean+symmetry_mean+radius_worst+texture_worst+perimeter_worst+area_worst+smoothness_worst+\n",
    "compactness_worst+concavity_worst+symmetry_worst+fractal_dimension_worst\"\"\"\n",
    "\n",
    "model=smf.glm(formula=formula, data=cancer, family=sm.families.Binomial())\n",
    "res=model.fit()\n",
    "print(res.summary2())\n",
    "\n",
    "cancer['predict'] = res.predict()  #予測をpredict列に保管\n",
    "cancer.plot.scatter(x='predict',y='diagnosis'); # 散布図に描画"
   ]
  },
  {
   "cell_type": "markdown",
   "metadata": {
    "colab_type": "text",
    "id": "Ry-qd1yCKumq"
   },
   "source": [
    "### 問題\n",
    "\n",
    "\"http://logopt.com/data/hospital.csv\" にある病院のデータを用いてロジスティック回帰を行え．\n",
    "\n",
    "従属変数*died*は死亡したか否かを表し，これを年齢(age)，施術(procedure)，性別(gender)，救急か否か(type)，入院日数(los: length of stay)から予測する． \n",
    "\n",
    "必要なら以下の文字列を使用しても良い．\n",
    "\n",
    "formula=\"died~procedure+age+gender+los+type\" \n"
   ]
  },
  {
   "cell_type": "code",
   "execution_count": 25,
   "metadata": {
    "colab": {
     "base_uri": "https://localhost:8080/",
     "height": 195
    },
    "colab_type": "code",
    "id": "f5TlOOvIKumr",
    "outputId": "c4478e29-2c65-4d00-b6c8-2dd22be077c2"
   },
   "outputs": [
    {
     "data": {
      "text/html": [
       "<div>\n",
       "<style scoped>\n",
       "    .dataframe tbody tr th:only-of-type {\n",
       "        vertical-align: middle;\n",
       "    }\n",
       "\n",
       "    .dataframe tbody tr th {\n",
       "        vertical-align: top;\n",
       "    }\n",
       "\n",
       "    .dataframe thead th {\n",
       "        text-align: right;\n",
       "    }\n",
       "</style>\n",
       "<table border=\"1\" class=\"dataframe\">\n",
       "  <thead>\n",
       "    <tr style=\"text-align: right;\">\n",
       "      <th></th>\n",
       "      <th>died</th>\n",
       "      <th>procedure</th>\n",
       "      <th>age</th>\n",
       "      <th>gender</th>\n",
       "      <th>los</th>\n",
       "      <th>type</th>\n",
       "    </tr>\n",
       "  </thead>\n",
       "  <tbody>\n",
       "    <tr>\n",
       "      <th>1</th>\n",
       "      <td>0</td>\n",
       "      <td>1</td>\n",
       "      <td>73</td>\n",
       "      <td>0</td>\n",
       "      <td>51</td>\n",
       "      <td>0</td>\n",
       "    </tr>\n",
       "    <tr>\n",
       "      <th>2</th>\n",
       "      <td>0</td>\n",
       "      <td>0</td>\n",
       "      <td>67</td>\n",
       "      <td>0</td>\n",
       "      <td>30</td>\n",
       "      <td>1</td>\n",
       "    </tr>\n",
       "    <tr>\n",
       "      <th>3</th>\n",
       "      <td>0</td>\n",
       "      <td>1</td>\n",
       "      <td>69</td>\n",
       "      <td>0</td>\n",
       "      <td>43</td>\n",
       "      <td>0</td>\n",
       "    </tr>\n",
       "    <tr>\n",
       "      <th>4</th>\n",
       "      <td>0</td>\n",
       "      <td>1</td>\n",
       "      <td>65</td>\n",
       "      <td>0</td>\n",
       "      <td>32</td>\n",
       "      <td>0</td>\n",
       "    </tr>\n",
       "    <tr>\n",
       "      <th>5</th>\n",
       "      <td>0</td>\n",
       "      <td>1</td>\n",
       "      <td>79</td>\n",
       "      <td>0</td>\n",
       "      <td>42</td>\n",
       "      <td>1</td>\n",
       "    </tr>\n",
       "  </tbody>\n",
       "</table>\n",
       "</div>"
      ],
      "text/plain": [
       "   died  procedure  age  gender  los  type\n",
       "1     0          1   73       0   51     0\n",
       "2     0          0   67       0   30     1\n",
       "3     0          1   69       0   43     0\n",
       "4     0          1   65       0   32     0\n",
       "5     0          1   79       0   42     1"
      ]
     },
     "execution_count": 25,
     "metadata": {},
     "output_type": "execute_result"
    }
   ],
   "source": [
    "hospital = pd.read_csv(\"http://logopt.com/data/hospital.csv\", index_col=0)\n",
    "hospital.head()"
   ]
  },
  {
   "cell_type": "code",
   "execution_count": 26,
   "metadata": {
    "colab": {},
    "colab_type": "code",
    "id": "AAdZgg5CKumv"
   },
   "outputs": [
    {
     "name": "stdout",
     "output_type": "stream",
     "text": [
      "               Results: Generalized linear model\n",
      "================================================================\n",
      "Model:              GLM              AIC:            316.5231   \n",
      "Link Function:      Logit            BIC:            -14499.5868\n",
      "Dependent Variable: died             Log-Likelihood: -152.26    \n",
      "Date:               2024-04-23 13:20 LL-Null:        -179.55    \n",
      "No. Observations:   1959             Deviance:       304.52     \n",
      "Df Model:           5                Pearson chi2:   1.01e+04   \n",
      "Df Residuals:       1953             Scale:          1.0000     \n",
      "Method:             IRLS                                        \n",
      "-----------------------------------------------------------------\n",
      "            Coef.    Std.Err.     z     P>|z|    [0.025    0.975]\n",
      "-----------------------------------------------------------------\n",
      "Intercept  -11.4223    3.2249  -3.5419  0.0004  -17.7430  -5.1016\n",
      "procedure    3.8633    0.6535   5.9116  0.0000    2.5825   5.1442\n",
      "age          0.0953    0.0438   2.1769  0.0295    0.0095   0.1811\n",
      "gender      -0.7181    0.3523  -2.0383  0.0415   -1.4086  -0.0276\n",
      "los         -0.2372    0.0624  -3.8002  0.0001   -0.3595  -0.1149\n",
      "type         0.3684    0.3504   1.0514  0.2931   -0.3184   1.0553\n",
      "================================================================\n",
      "\n"
     ]
    },
    {
     "data": {
      "image/png": "[encoded data removed]",
      "text/plain": [
       "<Figure size 640x480 with 1 Axes>"
      ]
     },
     "metadata": {},
     "output_type": "display_data"
    }
   ],
   "source": [
    "formula=\"died~procedure+age+gender+los+type\"\n",
    "\n",
    "model=smf.glm(formula=formula, data=hospital, family=sm.families.Binomial())\n",
    "res=model.fit()\n",
    "print(res.summary2())\n",
    "\n",
    "hospital['predict'] = res.predict()  #予測をpredict列に保管\n",
    "hospital.plot.scatter(x='predict',y='died'); # 散布図に描画"
   ]
  },
  {
   "cell_type": "markdown",
   "metadata": {
    "colab_type": "text",
    "id": "W_tDgEQdKumx"
   },
   "source": [
    "### Poisson回帰\n",
    "\n",
    "Poisson回帰は救急車の出動回数などの負の値をとらない**カウントデータ**もしくはその発生率を予測する際に用いられる．\n",
    "\n",
    "この場合には，従属変数が $0$ 以上の値になるので，一般化線形モデルでの仮定は以下のようになる．\n",
    "\n",
    "1. 従属変数 $y^{{i}}$ は平均 $\\mu^{(i)}$ のPoisson分布にしたがう．\n",
    "2. 線形予測子 $z^{(i)}$ を独立変数 $x^{(i)}$ を用いて $z^{(i)} = w x^{(i)} $ と定義する．(この部分は全部共通）\n",
    "3. リンク関数 $g$ を用いて  $\\mu^{(i)}$ と  $z^{(i)}$ を繋ぐが，$\\mu$ は $0$ 以上で $z$ は $[-\\infty,+\\infty]$ の定義域をもつ．これを繋ぐために以下のリンク関数 $g$ を用いる．\n",
    "\n",
    "$$z = g(\\mu) = \\log (\\mu)$$\n",
    "\n",
    "$g$ の逆写像は指数関数\n",
    "$$ \\mu = \\exp (z) $$ である．\n",
    "\n",
    "一般化線形モデル(glm)を使えば，ほぼ同じように予測できる．\n",
    "\n",
    "引数の*family* に *sm.families.Poisson()* を指定すれば良い．\n",
    "\n",
    "### 例題\n",
    "\n",
    "\"http://logopt.com/data/hospital-stay.csv\" にある病院の入院日数のデータセットを用いてPoisson回帰を解説する．\n",
    "従属変数である*los*（入院日数：length of stay)を，性別(gender)，救急か否か(type1)，75歳以上か(age75)から予測する．\n",
    "\n",
    "入院日数は負の値をとらない，いわゆるカウントデータであるので，Poisson回帰を適用する．"
   ]
  },
  {
   "cell_type": "code",
   "execution_count": 27,
   "metadata": {
    "colab": {},
    "colab_type": "code",
    "id": "wKsseQtrKumy"
   },
   "outputs": [],
   "source": [
    "import pandas as pd\n",
    "import statsmodels.api as sm\n",
    "import statsmodels.formula.api as smf\n",
    "%matplotlib inline"
   ]
  },
  {
   "cell_type": "code",
   "execution_count": 28,
   "metadata": {
    "colab": {
     "base_uri": "https://localhost:8080/",
     "height": 195
    },
    "colab_type": "code",
    "id": "h0D8CrtkKum1",
    "outputId": "7e4b71be-9829-4cbe-f5bc-d813ff093d40"
   },
   "outputs": [
    {
     "data": {
      "text/html": [
       "<div>\n",
       "<style scoped>\n",
       "    .dataframe tbody tr th:only-of-type {\n",
       "        vertical-align: middle;\n",
       "    }\n",
       "\n",
       "    .dataframe tbody tr th {\n",
       "        vertical-align: top;\n",
       "    }\n",
       "\n",
       "    .dataframe thead th {\n",
       "        text-align: right;\n",
       "    }\n",
       "</style>\n",
       "<table border=\"1\" class=\"dataframe\">\n",
       "  <thead>\n",
       "    <tr style=\"text-align: right;\">\n",
       "      <th></th>\n",
       "      <th>los</th>\n",
       "      <th>gender</th>\n",
       "      <th>type1</th>\n",
       "      <th>age75</th>\n",
       "    </tr>\n",
       "  </thead>\n",
       "  <tbody>\n",
       "    <tr>\n",
       "      <th>1</th>\n",
       "      <td>53</td>\n",
       "      <td>0</td>\n",
       "      <td>1</td>\n",
       "      <td>0</td>\n",
       "    </tr>\n",
       "    <tr>\n",
       "      <th>2</th>\n",
       "      <td>30</td>\n",
       "      <td>0</td>\n",
       "      <td>1</td>\n",
       "      <td>0</td>\n",
       "    </tr>\n",
       "    <tr>\n",
       "      <th>3</th>\n",
       "      <td>28</td>\n",
       "      <td>0</td>\n",
       "      <td>1</td>\n",
       "      <td>1</td>\n",
       "    </tr>\n",
       "    <tr>\n",
       "      <th>4</th>\n",
       "      <td>22</td>\n",
       "      <td>0</td>\n",
       "      <td>1</td>\n",
       "      <td>0</td>\n",
       "    </tr>\n",
       "    <tr>\n",
       "      <th>5</th>\n",
       "      <td>25</td>\n",
       "      <td>0</td>\n",
       "      <td>1</td>\n",
       "      <td>0</td>\n",
       "    </tr>\n",
       "  </tbody>\n",
       "</table>\n",
       "</div>"
      ],
      "text/plain": [
       "   los  gender  type1  age75\n",
       "1   53       0      1      0\n",
       "2   30       0      1      0\n",
       "3   28       0      1      1\n",
       "4   22       0      1      0\n",
       "5   25       0      1      0"
      ]
     },
     "execution_count": 28,
     "metadata": {},
     "output_type": "execute_result"
    }
   ],
   "source": [
    "hospital = pd.read_csv(\"http://logopt.com/data/hospital-stay.csv\",index_col=0)\n",
    "hospital.head()"
   ]
  },
  {
   "cell_type": "code",
   "execution_count": 29,
   "metadata": {
    "colab": {
     "base_uri": "https://localhost:8080/",
     "height": 351
    },
    "colab_type": "code",
    "id": "mBh76Ne1Kum3",
    "outputId": "7e822247-b4fd-48bb-8517-c960a42a679c"
   },
   "outputs": [
    {
     "name": "stdout",
     "output_type": "stream",
     "text": [
      "               Results: Generalized linear model\n",
      "================================================================\n",
      "Model:              GLM              AIC:            9178.5450  \n",
      "Link Function:      Log              BIC:            -10080.9611\n",
      "Dependent Variable: los              Log-Likelihood: -4585.3    \n",
      "Date:               2024-04-23 13:20 LL-Null:        -4975.9    \n",
      "No. Observations:   1798             Deviance:       3364.0     \n",
      "Df Model:           3                Pearson chi2:   4.16e+03   \n",
      "Df Residuals:       1794             Scale:          1.0000     \n",
      "Method:             IRLS                                        \n",
      "-----------------------------------------------------------------\n",
      "              Coef.   Std.Err.     z     P>|z|    [0.025   0.975]\n",
      "-----------------------------------------------------------------\n",
      "Intercept     1.1822    0.0276  42.8441  0.0000   1.1282   1.2363\n",
      "gender       -0.1475    0.0218  -6.7523  0.0000  -0.1903  -0.1047\n",
      "type1         0.6280    0.0258  24.3094  0.0000   0.5774   0.6787\n",
      "age75         0.1298    0.0232   5.6016  0.0000   0.0844   0.1752\n",
      "================================================================\n",
      "\n"
     ]
    }
   ],
   "source": [
    "model = smf.glm(formula=\"los ~ gender + type1 + age75 \", data=hospital, family= sm.families.Poisson() )\n",
    "res = model.fit()\n",
    "print(res.summary2())"
   ]
  },
  {
   "cell_type": "markdown",
   "metadata": {
    "colab_type": "text",
    "id": "dsGCO1plKum7"
   },
   "source": [
    "### 問題\n",
    "\"http://logopt.com/data/fishing.csv\" にある魚の数を予測するためのデータセットにPoisson回帰を適用せよ．\n",
    "従属変数は魚の数を表す totabundであり，それを密度(density)，平均深度(meandepth)，年度(year)から予測せよ．\n",
    "\n",
    "必要なら以下の文字列を用いよ．\n",
    "\n",
    "formula=\"totabund ~ density + meandepth + year \"\n"
   ]
  },
  {
   "cell_type": "code",
   "execution_count": 31,
   "metadata": {
    "colab": {
     "base_uri": "https://localhost:8080/",
     "height": 195
    },
    "colab_type": "code",
    "id": "5xrIVz6-Kum7",
    "outputId": "1e2f4faa-808b-43ed-ec99-65e4791f7105"
   },
   "outputs": [
    {
     "data": {
      "text/html": [
       "<div>\n",
       "<style scoped>\n",
       "    .dataframe tbody tr th:only-of-type {\n",
       "        vertical-align: middle;\n",
       "    }\n",
       "\n",
       "    .dataframe tbody tr th {\n",
       "        vertical-align: top;\n",
       "    }\n",
       "\n",
       "    .dataframe thead th {\n",
       "        text-align: right;\n",
       "    }\n",
       "</style>\n",
       "<table border=\"1\" class=\"dataframe\">\n",
       "  <thead>\n",
       "    <tr style=\"text-align: right;\">\n",
       "      <th></th>\n",
       "      <th>site</th>\n",
       "      <th>totabund</th>\n",
       "      <th>density</th>\n",
       "      <th>meandepth</th>\n",
       "      <th>year</th>\n",
       "      <th>period</th>\n",
       "      <th>sweptarea</th>\n",
       "    </tr>\n",
       "  </thead>\n",
       "  <tbody>\n",
       "    <tr>\n",
       "      <th>1</th>\n",
       "      <td>1</td>\n",
       "      <td>76</td>\n",
       "      <td>0.002070</td>\n",
       "      <td>804</td>\n",
       "      <td>1978</td>\n",
       "      <td>1977-1989</td>\n",
       "      <td>36710.000000</td>\n",
       "    </tr>\n",
       "    <tr>\n",
       "      <th>2</th>\n",
       "      <td>2</td>\n",
       "      <td>161</td>\n",
       "      <td>0.003520</td>\n",
       "      <td>808</td>\n",
       "      <td>2001</td>\n",
       "      <td>2000-2002</td>\n",
       "      <td>45741.253906</td>\n",
       "    </tr>\n",
       "    <tr>\n",
       "      <th>3</th>\n",
       "      <td>3</td>\n",
       "      <td>39</td>\n",
       "      <td>0.000981</td>\n",
       "      <td>809</td>\n",
       "      <td>2001</td>\n",
       "      <td>2000-2002</td>\n",
       "      <td>39775.000000</td>\n",
       "    </tr>\n",
       "    <tr>\n",
       "      <th>4</th>\n",
       "      <td>4</td>\n",
       "      <td>410</td>\n",
       "      <td>0.008039</td>\n",
       "      <td>848</td>\n",
       "      <td>1979</td>\n",
       "      <td>1977-1989</td>\n",
       "      <td>51000.000000</td>\n",
       "    </tr>\n",
       "    <tr>\n",
       "      <th>5</th>\n",
       "      <td>5</td>\n",
       "      <td>177</td>\n",
       "      <td>0.005933</td>\n",
       "      <td>853</td>\n",
       "      <td>2002</td>\n",
       "      <td>2000-2002</td>\n",
       "      <td>29831.251953</td>\n",
       "    </tr>\n",
       "  </tbody>\n",
       "</table>\n",
       "</div>"
      ],
      "text/plain": [
       "   site  totabund   density  meandepth  year     period     sweptarea\n",
       "1     1        76  0.002070        804  1978  1977-1989  36710.000000\n",
       "2     2       161  0.003520        808  2001  2000-2002  45741.253906\n",
       "3     3        39  0.000981        809  2001  2000-2002  39775.000000\n",
       "4     4       410  0.008039        848  1979  1977-1989  51000.000000\n",
       "5     5       177  0.005933        853  2002  2000-2002  29831.251953"
      ]
     },
     "execution_count": 31,
     "metadata": {},
     "output_type": "execute_result"
    }
   ],
   "source": [
    "fish = pd.read_csv(\"http://logopt.com/data/fishing.csv\",index_col=0)\n",
    "fish.head()"
   ]
  },
  {
   "cell_type": "code",
   "execution_count": 32,
   "metadata": {
    "colab": {},
    "colab_type": "code",
    "id": "ledyV9K-Kum-"
   },
   "outputs": [
    {
     "name": "stdout",
     "output_type": "stream",
     "text": [
      "              Results: Generalized linear model\n",
      "==============================================================\n",
      "Model:              GLM              AIC:            6879.4441\n",
      "Link Function:      Log              BIC:            5185.2509\n",
      "Dependent Variable: totabund         Log-Likelihood: -3435.7  \n",
      "Date:               2024-04-23 13:22 LL-Null:        -14511.  \n",
      "No. Observations:   147              Deviance:       5898.9   \n",
      "Df Model:           3                Pearson chi2:   5.45e+03 \n",
      "Df Residuals:       143              Scale:          1.0000   \n",
      "Method:             IRLS                                      \n",
      "--------------------------------------------------------------\n",
      "               Coef.  Std.Err.    z     P>|z|   [0.025  0.975]\n",
      "--------------------------------------------------------------\n",
      "Intercept     31.4793   1.2288  25.6176 0.0000 29.0709 33.8877\n",
      "density       80.4678   0.7877 102.1603 0.0000 78.9240 82.0116\n",
      "meandepth     -0.0003   0.0000 -42.6889 0.0000 -0.0003 -0.0003\n",
      "year          -0.0131   0.0006 -21.1652 0.0000 -0.0143 -0.0119\n",
      "==============================================================\n",
      "\n"
     ]
    }
   ],
   "source": [
    "model = smf.glm(formula=\"totabund ~ density + meandepth + year \", data=fish, family= sm.families.Poisson() )\n",
    "res = model.fit()\n",
    "print(res.summary2())"
   ]
  }
 ],
 "metadata": {
  "colab": {
   "collapsed_sections": [],
   "include_colab_link": true,
   "name": "statsmodels1.0.ipynb",
   "provenance": [],
   "version": "0.3.2"
  },
  "kernelspec": {
   "display_name": "Python 3",
   "language": "python",
   "name": "python3"
  },
  "language_info": {
   "codemirror_mode": {
    "name": "ipython",
    "version": 3
   },
   "file_extension": ".py",
   "mimetype": "text/x-python",
   "name": "python",
   "nbconvert_exporter": "python",
   "pygments_lexer": "ipython3",
   "version": "3.9.6"
  }
 },
 "nbformat": 4,
 "nbformat_minor": 4
}
