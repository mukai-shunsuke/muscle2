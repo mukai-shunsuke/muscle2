{
 "cells": [
  {
   "cell_type": "markdown",
   "metadata": {
    "colab_type": "text",
    "id": "zvnBl3-87CaR"
   },
   "source": [
    "# グラフなどの可視化\n",
    "\n",
    "## モジュールmatplotlib \n",
    "\n",
    "困ったら公式ページ[Matplotlib API Overview](https://matplotlib.org/3.1.1/api/index.html) を見るのが一番である。\n",
    "\n",
    "本来ならmatplotlibの基本的な使用法を解説するべきではあるが，ここではpandasから直接描画する方法に着目して述べる．\n",
    "\n",
    "例題として用いるのはiris（アヤメ）のデータである．\n",
    "\n",
    "まずはpandasを用いてデータを読んでおく．\n",
    "\n",
    "\n",
    "```python\n",
    "%matplotlib inline\n",
    "```\n",
    "としておくと，描画が画面にすぐに表示されるようになる．\n"
   ]
  },
  {
   "cell_type": "code",
   "execution_count": null,
   "metadata": {
    "colab": {
     "base_uri": "https://localhost:8080/",
     "height": 203
    },
    "colab_type": "code",
    "id": "d-JRtleG7CaS",
    "outputId": "df828643-7637-4367-ea09-892efdd370ae",
    "scrolled": true
   },
   "outputs": [],
   "source": [
    "import pandas as pd\n",
    "import matplotlib.pyplot as plt\n",
    "%matplotlib inline \n",
    "\n",
    "df = pd.read_csv('http://logopt.com/data/iris.data', names=['sepal length','sepal width','petal length','petal width', 'class'])\n",
    "df.head()"
   ]
  },
  {
   "cell_type": "markdown",
   "metadata": {
    "colab_type": "text",
    "id": "1D9II_as7CaY"
   },
   "source": [
    "## ヒストグラム\n",
    "\n",
    "まずはヒストグラム（histgram, 度数分布表）を描画してみる．\n",
    "\n",
    "ヒストグラムは数値データの分布の概要を知る際に便利である．\n",
    "\n",
    "pandasのデータフレームの**hist**メソッドを用いる．\n",
    "\n",
    "引数**bins**でビンの数（x軸の区分数）を指定できる．（色々変えて試してみよう．規定値は $10$ である．）"
   ]
  },
  {
   "cell_type": "code",
   "execution_count": null,
   "metadata": {
    "colab": {
     "base_uri": "https://localhost:8080/",
     "height": 280
    },
    "colab_type": "code",
    "id": "xjlIWgU-7CaZ",
    "outputId": "b7d88ea6-5f21-4edd-d680-73b2c5289c01"
   },
   "outputs": [],
   "source": [
    "df.hist(alpha=0.5, bins=30);"
   ]
  },
  {
   "cell_type": "markdown",
   "metadata": {
    "colab_type": "text",
    "id": "JYXHFfxk7Cab"
   },
   "source": [
    "### 問題\n",
    "\n",
    "http://logopt.com/data/SATGPA.csv データを読み込み，2種類のSATの成績とGPAのヒストグラムを描画せよ．\n",
    "また，引数のalphaとbinsを色々変えてみよ．"
   ]
  },
  {
   "cell_type": "code",
   "execution_count": null,
   "metadata": {
    "colab": {},
    "colab_type": "code",
    "id": "_DeLvU5E7Cac"
   },
   "outputs": [],
   "source": []
  },
  {
   "cell_type": "markdown",
   "metadata": {
    "colab_type": "text",
    "id": "AUTac8Nc7Cae"
   },
   "source": [
    "### 問題\n",
    "\n",
    "以下のように読み込んだポケモンのデータフレームを用いて，攻撃力(Attack)，守備力（Defense)のヒストグラムを描画せよ．\n",
    "（ヒント：データフレームから一部の列を切り出す方法については，pandasの練習問題を参考にせよ．）"
   ]
  },
  {
   "cell_type": "code",
   "execution_count": null,
   "metadata": {
    "colab": {
     "base_uri": "https://localhost:8080/",
     "height": 234
    },
    "colab_type": "code",
    "id": "UZWNg2f_7Caf",
    "outputId": "50bea1ab-f45e-4266-fbff-189f00c0d8d8"
   },
   "outputs": [],
   "source": [
    "pokemon = pd.read_csv(\"http://logopt.com/data/poke.csv\",encoding=\"utf-8\",index_col=0)\n",
    "pokemon.head()"
   ]
  },
  {
   "cell_type": "markdown",
   "metadata": {
    "colab_type": "text",
    "id": "UGLpvKIU7Cag"
   },
   "source": [
    "## 散布図\n",
    "\n",
    "散布図（scatter plot)は，2つの数値データの関係を知る際に便利である．\n",
    "\n",
    "pandasのデータフレームの**plot.scatter**メソッドを用いる．\n",
    "\n",
    "引数の**x**と**y**で $x,y$ 軸に使用するデータ（データフレームの列名）を指定する．\n",
    "\n",
    "ここでは'がく片長 'sepal length'と花びら長 'petal length'の関係を図示してみる．"
   ]
  },
  {
   "cell_type": "code",
   "execution_count": null,
   "metadata": {
    "colab": {
     "base_uri": "https://localhost:8080/",
     "height": 279
    },
    "colab_type": "code",
    "id": "wf-hASOX7Cai",
    "outputId": "5a62cb50-8fd8-4445-c07b-225681e75d57"
   },
   "outputs": [],
   "source": [
    "df.plot.scatter(x='sepal length', y= 'petal length');"
   ]
  },
  {
   "cell_type": "markdown",
   "metadata": {
    "colab_type": "text",
    "id": "WO8Yu4MN7Caj"
   },
   "source": [
    "### 問題\n",
    "http://logopt.com/data/Diamond.csv からダイアモンドの価格データを読み込み，カラット\"carat\"と価格 \"price\" の散布図を描け．"
   ]
  },
  {
   "cell_type": "code",
   "execution_count": null,
   "metadata": {
    "colab": {},
    "colab_type": "code",
    "id": "TqURfS2E7Cak"
   },
   "outputs": [],
   "source": []
  },
  {
   "cell_type": "markdown",
   "metadata": {
    "colab_type": "text",
    "id": "ncpI4Thu7Cal"
   },
   "source": [
    "## 問題\n",
    "\n",
    "ポケモンのデータフレームに対して，攻撃力(Attack)，守備力（Defense)の関係を散布図に描画せよ．\n",
    "\n",
    "（ヒント：データフレームから一部の列を切り出す方法については，pandasの練習問題を参考にせよ．）"
   ]
  },
  {
   "cell_type": "code",
   "execution_count": null,
   "metadata": {
    "colab": {},
    "colab_type": "code",
    "id": "0FqmJGGY7Cam"
   },
   "outputs": [],
   "source": []
  },
  {
   "cell_type": "markdown",
   "metadata": {
    "colab_type": "text",
    "id": "DlFOWjjA7Cao"
   },
   "source": [
    "## 他の図\n",
    "\n",
    "pandasのデータフレームの**plot**の中には他にも様々な描画メソッドが含まれている．\n",
    "\n",
    "色々試してみよう．"
   ]
  },
  {
   "cell_type": "code",
   "execution_count": null,
   "metadata": {
    "colab": {
     "base_uri": "https://localhost:8080/",
     "height": 265
    },
    "colab_type": "code",
    "id": "Yt1Reqb57Cap",
    "outputId": "0bda3e0c-b847-46c5-abc9-a2d0622e5629"
   },
   "outputs": [],
   "source": [
    "df.plot.area(); #m面積図"
   ]
  },
  {
   "cell_type": "code",
   "execution_count": null,
   "metadata": {
    "colab": {
     "base_uri": "https://localhost:8080/",
     "height": 272
    },
    "colab_type": "code",
    "id": "lld_gR6z7Car",
    "outputId": "66f1e6ac-86da-441c-f412-90caf57356fa"
   },
   "outputs": [],
   "source": [
    "df.plot.bar(); #棒グラフ"
   ]
  },
  {
   "cell_type": "code",
   "execution_count": null,
   "metadata": {
    "colab": {
     "base_uri": "https://localhost:8080/",
     "height": 265
    },
    "colab_type": "code",
    "id": "uApUv7iY7Cau",
    "outputId": "9365c419-e66e-4417-89cf-4a20585efb2d"
   },
   "outputs": [],
   "source": [
    "df.plot.box();#箱ひげ図"
   ]
  },
  {
   "cell_type": "code",
   "execution_count": null,
   "metadata": {
    "colab": {
     "base_uri": "https://localhost:8080/",
     "height": 265
    },
    "colab_type": "code",
    "id": "EdmZXXh27Cax",
    "outputId": "7321808a-4137-44ac-9c1a-abe03f926ff2"
   },
   "outputs": [],
   "source": [
    "df.plot.density();#カーネル密度推定（kdeと同じ）"
   ]
  },
  {
   "cell_type": "code",
   "execution_count": null,
   "metadata": {
    "colab": {
     "base_uri": "https://localhost:8080/",
     "height": 258
    },
    "colab_type": "code",
    "id": "a08y9k_27Ca0",
    "outputId": "7b0eac7f-c38c-436a-d32d-6b3f8f618dc2"
   },
   "outputs": [],
   "source": [
    "df.plot.hexbin(x='sepal length', y= 'petal length'); #6角形格子図（散布図と同様に，x,y軸を入れる．）"
   ]
  },
  {
   "cell_type": "code",
   "execution_count": null,
   "metadata": {
    "colab": {
     "base_uri": "https://localhost:8080/",
     "height": 265
    },
    "colab_type": "code",
    "id": "JQDzPNPa7Ca3",
    "outputId": "0e19f10a-6caf-4bd5-81bf-dd7b2c0db3d4"
   },
   "outputs": [],
   "source": [
    "df.plot.line();#線グラフ df.plot()でも同じ"
   ]
  },
  {
   "cell_type": "markdown",
   "metadata": {
    "colab_type": "text",
    "id": "kIMO-x9v7Ca6"
   },
   "source": [
    "## 問題\n",
    "\n",
    "ポケモンのデータを自分なりに可視化せよ．その際，どの列に対して，どの図を選択すれば良いか考え，考察とともにレポートせよ．"
   ]
  },
  {
   "cell_type": "code",
   "execution_count": null,
   "metadata": {
    "colab": {},
    "colab_type": "code",
    "id": "zhjwfWsN7Ca6"
   },
   "outputs": [],
   "source": []
  },
  {
   "cell_type": "markdown",
   "metadata": {
    "colab_type": "text",
    "id": "iNDVtfs27Ca9"
   },
   "source": [
    "## 多次元データ 1 並行座標図\n",
    "\n",
    "散布図では3次元までの図を可視化できるが，4次元以上だと人間の目では無理だ．\n",
    "\n",
    "多次元データを可視化するための方法として**並行座標図**がある．\n",
    "\n",
    "これは散布図の $y$ 軸を $x$ 軸と並行にしたものである．複数の $y$ 軸があっても大丈夫だが，あまり多いとよく分からなくなる．\n",
    "\n",
    "pandasでは**plotting**（古いバージョンだと**tools.plotting**）にある**parallel_coordinates** 関数を用いて並行座標図を描画できる．\n",
    "\n",
    "第1引数はデータフレームであり，第2引数は分けて描画したいクラスを表す列名を与える．\n",
    "\n",
    "並行座標図は，比例関係は平行な直線で，反比例関係は1つの点で交わる直線群で描画する．\n",
    "\n",
    "例として，$x= 0,1,2, \\ldots,9$，$y=2x$, $z=10-x$ を描画してみよう．"
   ]
  },
  {
   "cell_type": "code",
   "execution_count": null,
   "metadata": {
    "colab": {},
    "colab_type": "code",
    "id": "g55PtcuT7Ca-"
   },
   "outputs": [],
   "source": [
    "from pandas.plotting import parallel_coordinates"
   ]
  },
  {
   "cell_type": "code",
   "execution_count": null,
   "metadata": {
    "colab": {
     "base_uri": "https://localhost:8080/",
     "height": 203
    },
    "colab_type": "code",
    "id": "oL680rv37CbB",
    "outputId": "96f66489-0454-4ac3-95c3-23eaa005e00f"
   },
   "outputs": [],
   "source": [
    "data = []   # x,y,zを入れたリストを作成\n",
    "for i in range(10):                    \n",
    "    row = [ i, 2*i, 10-i, 'dummy' ] #クラス名を指定するためにダミーの列を最後に追加\n",
    "    data.append( row )\n",
    "testdf = pd.DataFrame(data)\n",
    "testdf.head()"
   ]
  },
  {
   "cell_type": "code",
   "execution_count": null,
   "metadata": {
    "colab": {
     "base_uri": "https://localhost:8080/",
     "height": 265
    },
    "colab_type": "code",
    "id": "mZoO8yRz7CbD",
    "outputId": "db69ad26-a48f-4349-c6cb-0b4662445892"
   },
   "outputs": [],
   "source": [
    "parallel_coordinates(testdf,3); #ダミーの列の名前は 3 "
   ]
  },
  {
   "cell_type": "markdown",
   "metadata": {
    "colab_type": "text",
    "id": "2MUcGMVD7CbF"
   },
   "source": [
    "## 問題\n",
    "\n",
    "1. iris（アヤメ）のデータフレームをアヤメの種類 'class' ごとに並行座標図に描画せよ．\n",
    "\n",
    "2. ポケモンデータを並行座標図で描画せよ．\n",
    "ただし，伝説ポケモンか否か（Legendary)でクラス分けを行い，軸としては体力(HP)，攻撃力(Attack)，守備力(Defense)を用いよ．\n"
   ]
  },
  {
   "cell_type": "code",
   "execution_count": null,
   "metadata": {
    "colab": {},
    "colab_type": "code",
    "id": "yR4q13JC7CbG"
   },
   "outputs": [],
   "source": []
  },
  {
   "cell_type": "code",
   "execution_count": null,
   "metadata": {
    "colab": {},
    "colab_type": "code",
    "id": "ytT2SyLn7CbI"
   },
   "outputs": [],
   "source": []
  },
  {
   "cell_type": "markdown",
   "metadata": {
    "colab_type": "text",
    "id": "a520cU4e7CbI"
   },
   "source": [
    "## 多次元データ 2\n",
    "\n",
    "多次元データを可視化するためのもう1つの方法として**Andrew曲線**がある．\n",
    "\n",
    "これは．多次元データ $x_1,x_2,\\ldots$ をフーリエ曲線\n",
    "\n",
    "$$\n",
    "f_x(t) = \\frac{x_1}{\\sqrt 2} + x_2 \\sin(t) + x_3 \\cos(t) + x_4 \\sin(2t) + x_5 \\cos(2t) + \\cdots\n",
    "$$\n",
    "\n",
    "で変換し，$-\\pi < t < \\pi$ の間に描画したものである．\n",
    "\n",
    "pandasでは**plotting**（古いバージョンだと**tools.plotting**）にある**andrews_curves** 関数を用いて並行座標図を描画できる．\n",
    "\n",
    "第1引数はデータフレームであり，第2引数は分けて描画したいクラスを表す列名を与える．\n",
    "\n",
    "例として，$x= 0,1,2, \\ldots,9$，$y=2x$, $z=10-x$ を描画してみよう．"
   ]
  },
  {
   "cell_type": "code",
   "execution_count": null,
   "metadata": {
    "colab": {},
    "colab_type": "code",
    "id": "jWCoNSHb7CbJ"
   },
   "outputs": [],
   "source": [
    "from pandas.plotting import andrews_curves"
   ]
  },
  {
   "cell_type": "code",
   "execution_count": null,
   "metadata": {
    "colab": {
     "base_uri": "https://localhost:8080/",
     "height": 265
    },
    "colab_type": "code",
    "id": "BMnJu5rc7CbK",
    "outputId": "302e754c-404d-4710-85cb-4bae60a35bdd"
   },
   "outputs": [],
   "source": [
    "andrews_curves(testdf, 3);"
   ]
  },
  {
   "cell_type": "markdown",
   "metadata": {
    "colab_type": "text",
    "id": "SB161ZuZ7CbO"
   },
   "source": [
    "## 問題\n",
    "\n",
    "1. アヤメ(iris)データをアヤメの種類 'class' ごとにAndrew曲線で描画せよ．\n",
    "\n",
    "2. ポケモンデータをAndrew曲線で描画せよ．\n",
    "ただし，伝説ポケモンか否か（Legendary)でクラス分けを行い，軸としては体力(HP)，攻撃力(Attack)，守備力(Defense)を用いよ．"
   ]
  },
  {
   "cell_type": "code",
   "execution_count": null,
   "metadata": {
    "colab": {},
    "colab_type": "code",
    "id": "oomZMYMh7CbO"
   },
   "outputs": [],
   "source": []
  },
  {
   "cell_type": "code",
   "execution_count": null,
   "metadata": {
    "colab": {},
    "colab_type": "code",
    "id": "WvwTxeyQ7CbQ"
   },
   "outputs": [],
   "source": []
  },
  {
   "cell_type": "markdown",
   "metadata": {
    "colab_type": "text",
    "id": "wSGiIjyC7CbS"
   },
   "source": [
    "## データ解析用描画モジュール seaborn \n",
    "\n",
    "seabornを用いることによって，さらに簡単にデータ解析ができ，描画も綺麗になる．\n",
    "\n",
    "まずはseabornモジュールを**sns**という別名で読み込んでおく．\n"
   ]
  },
  {
   "cell_type": "code",
   "execution_count": null,
   "metadata": {
    "colab": {},
    "colab_type": "code",
    "id": "JjtcLEZg7CbT"
   },
   "outputs": [],
   "source": [
    "import seaborn as sns\n",
    "%matplotlib inline"
   ]
  },
  {
   "cell_type": "markdown",
   "metadata": {
    "colab_type": "text",
    "id": "srm3blRQ7CbU"
   },
   "source": [
    "## ヒストグラム\n",
    "\n",
    "seabornでヒストグラム（histgram, 度数分布表）に対応するものは**displot**（distribution plot）だ．\n",
    "\n",
    "例としてiris（アヤメ）のデータの「がく片長」('sepal length')を描画してみる．\n",
    "\n",
    "引数としては，以下のものがあるので，色々試してみよう．\n",
    "\n",
    "* bins: ビンの数\n",
    "* kde: カーネル密度推定の有無\n",
    "* rug: データの位置(敷物:rug)の有無"
   ]
  },
  {
   "cell_type": "code",
   "execution_count": null,
   "metadata": {
    "colab": {
     "base_uri": "https://localhost:8080/",
     "height": 203
    },
    "colab_type": "code",
    "id": "k8nDFb_j7CbU",
    "outputId": "7b0b7a26-a4b5-4f89-e4a2-8ee05b6f8479"
   },
   "outputs": [],
   "source": [
    "df = pd.read_csv('http://logopt.com/data/iris.data', names=['sepal length','sepal width','petal length','petal width', 'class'])\n",
    "df.head()"
   ]
  },
  {
   "cell_type": "code",
   "execution_count": null,
   "metadata": {
    "colab": {
     "base_uri": "https://localhost:8080/",
     "height": 279
    },
    "colab_type": "code",
    "id": "dou5j1oG7CbW",
    "outputId": "30e288ed-dbed-4a88-d110-ac18017ebc9c"
   },
   "outputs": [],
   "source": [
    "sns.distplot(df['sepal length'], bins=20, rug=True, kde =True);"
   ]
  },
  {
   "cell_type": "markdown",
   "metadata": {
    "colab_type": "text",
    "id": "r78qAXMk7CbY"
   },
   "source": [
    "### 問題\n",
    "\n",
    "http://logopt.com/data/SATGPA.csv データを読み込み，GPAの分布をdistplotを用いて描画せよ．"
   ]
  },
  {
   "cell_type": "code",
   "execution_count": null,
   "metadata": {
    "colab": {},
    "colab_type": "code",
    "id": "8a4_A6c87CbZ"
   },
   "outputs": [],
   "source": []
  },
  {
   "cell_type": "markdown",
   "metadata": {
    "colab_type": "text",
    "id": "ptti-MSR7Cba"
   },
   "source": [
    "## 散布図\n",
    "\n",
    "seabornで散布図に対応するものは**jointplot**だ．おまけとして分布も表示される．\n",
    "\n",
    "引数としては，$x,y$ と $data$ の他に種類を表す**kind**がある．\n",
    "\n",
    "kindは以下のものがとれるので，色々試してみよう．\n",
    "\n",
    "*  \"scatter\"：普通の散布図\n",
    "* \"reg\" : 回帰分析\n",
    "* \"resid\" : 回帰の残差\n",
    "* \"kde\" : カーネル密度推定\n",
    "* \"hex\" : 6角形格子 "
   ]
  },
  {
   "cell_type": "code",
   "execution_count": null,
   "metadata": {
    "colab": {
     "base_uri": "https://localhost:8080/",
     "height": 441
    },
    "colab_type": "code",
    "id": "mF397gTS7Cba",
    "outputId": "8fc8d10c-25b1-44c0-8b09-dd2fdd23db37"
   },
   "outputs": [],
   "source": [
    "sns.jointplot( x='sepal length', y='petal length', data=df,  kind='scatter');"
   ]
  },
  {
   "cell_type": "markdown",
   "metadata": {
    "colab_type": "text",
    "id": "D80v975E7Cbc"
   },
   "source": [
    "データフレームに含まれる複数の列間の散布図を一度に描画するには**pairplot**を用いる．\n",
    "\n",
    "引数として**hue**（色調）をとることができ，色を変えたい列名（以下の例ではアヤメの種類('class'）を指定して描画している．\n"
   ]
  },
  {
   "cell_type": "code",
   "execution_count": null,
   "metadata": {
    "colab": {
     "base_uri": "https://localhost:8080/",
     "height": 726
    },
    "colab_type": "code",
    "id": "biCjQOcF7Cbc",
    "outputId": "3d10923b-185f-4853-f85d-d544c78e7250"
   },
   "outputs": [],
   "source": [
    "sns.pairplot(df, hue='class');"
   ]
  },
  {
   "cell_type": "markdown",
   "metadata": {
    "colab_type": "text",
    "id": "BLyHP_-P7Cbe"
   },
   "source": [
    "### 問題\n",
    "1. http://logopt.com/data/SATGPA.csv データを読み込み，MathSATとGPAの関係をjointplotを用いて描画せよ．\n",
    "2. http://logopt.com/data/SATGPA.csv データを読み込み，MathSAT, VerbalSAT, GPAの相互関係をpairplotを用いて描画せよ．"
   ]
  },
  {
   "cell_type": "code",
   "execution_count": null,
   "metadata": {
    "colab": {},
    "colab_type": "code",
    "id": "HhwaXt4g7Cbf"
   },
   "outputs": [],
   "source": []
  },
  {
   "cell_type": "code",
   "execution_count": null,
   "metadata": {
    "colab": {},
    "colab_type": "code",
    "id": "Myiiw3lW7Cbh"
   },
   "outputs": [],
   "source": []
  },
  {
   "cell_type": "markdown",
   "metadata": {
    "colab_type": "text",
    "id": "zMYAGGs07Cbl"
   },
   "source": [
    "## 回帰プロット\n",
    "\n",
    "seabornでは統計モジュール**statsmodels**を用いた回帰分析の結果を描画することができる．\n",
    "\n",
    "カテゴリーデータ別の回帰を行いたい場合には，FacetGrid）を用いるのだが，**lmplot**は回帰の結果をFacetGridで表示してくる優れものである．\n",
    "\n",
    "例としてseabornに例題として含まれているtipsデータを用いる．\n",
    "\n",
    "FacetGridでは行(row)と列(col)を表すカテゴリーデータを引数で指定できる他に，色調(hue)も用いることができる．\n",
    "\n",
    "以下の例では，tipsデータに対して支払総額（'total_bill'）とチップ（'tip'）の関係を，\n",
    "行に喫煙者か否か（row='smoker'），列に性別（col='sex'），色調に昼食か夕食か（hue='time')を設定して分析する．\n"
   ]
  },
  {
   "cell_type": "code",
   "execution_count": null,
   "metadata": {
    "colab": {
     "base_uri": "https://localhost:8080/",
     "height": 203
    },
    "colab_type": "code",
    "id": "KWmRtwpc7Cbm",
    "outputId": "27511779-1cea-406c-a871-917559672ff9"
   },
   "outputs": [],
   "source": [
    "tips = sns.load_dataset('tips')\n",
    "tips.head()"
   ]
  },
  {
   "cell_type": "code",
   "execution_count": null,
   "metadata": {
    "colab": {
     "base_uri": "https://localhost:8080/",
     "height": 729
    },
    "colab_type": "code",
    "id": "UQT2nPIr7Cbp",
    "outputId": "7ba0ab1f-4c84-4d06-cddc-33eb1449607e"
   },
   "outputs": [],
   "source": [
    "sns.lmplot(x='total_bill', y='tip', data=tips, row='smoker', col='sex', hue='time');"
   ]
  },
  {
   "cell_type": "markdown",
   "metadata": {
    "colab_type": "text",
    "id": "UmpiKZ-D7Cbr"
   },
   "source": [
    "## カテゴリーデータの分析\n",
    "\n",
    "カテゴリーデータ別に集計したい場合には，**factorplot**を用いると便利だ．\n",
    "\n",
    "引数は以下の通り．\n",
    "\n",
    "* x: x軸\n",
    "* y: y軸\n",
    "* data: データフレーム\n",
    "* row: 行名\n",
    "* col: 列名\n",
    "* hue: 色調\n",
    "* kind: グラフの種類 (point, bar, count, box, violin, strip)\n",
    "* split: バイオリン図(violin：箱ひげ図の拡張)の場合だけ有効で，Trueのとき左右に色調を分けて描画する．\n",
    "\n",
    "以下の例では，tipsデータに対し，日ごと(x)のチップ（y)を喫煙者か否か（row='smoker'），性別（col='sex'），\n",
    "昼食か夕食か（hue='time'）ごとにバイオリン図で描画している．"
   ]
  },
  {
   "cell_type": "code",
   "execution_count": null,
   "metadata": {
    "colab": {
     "base_uri": "https://localhost:8080/",
     "height": 690
    },
    "colab_type": "code",
    "id": "2B4QQKbJ7Cbr",
    "outputId": "d4f49f0b-bcf6-43ee-bf3a-7207abf1751f"
   },
   "outputs": [],
   "source": [
    "sns.factorplot(x='day', y='tip',  data=tips, row='smoker', col='sex', hue='time', split=True, kind='violin');"
   ]
  },
  {
   "cell_type": "markdown",
   "metadata": {
    "colab_type": "text",
    "id": "fcMieEe17Cbu"
   },
   "source": [
    "### 問題\n",
    "\n",
    "1. seabornに例題として含まれているtitanicデータを読み込み，運賃(fare）と生存確率(survived)のロジスティック回帰を，性別(sex)ごとに行え．\n",
    "（ヒント：ロジスティック回帰を行うには，lmplotの引数のlogisticをTrueにする．）\n",
    "\n",
    "2. seabornに例題として含まれているtitanicデータを読み込み，客室クラス(class）と性別(sex)ごとの生存確率(survived)を集計した結果を描画せよ．"
   ]
  },
  {
   "cell_type": "code",
   "execution_count": null,
   "metadata": {
    "colab": {},
    "colab_type": "code",
    "id": "bRkSFQZI7Cbu",
    "outputId": "8e6da2e4-a364-45ff-9be0-191b8c52b6a7"
   },
   "outputs": [],
   "source": [
    "titanic = sns.load_dataset('titanic')\n",
    "titanic.head()"
   ]
  },
  {
   "cell_type": "code",
   "execution_count": null,
   "metadata": {
    "colab": {},
    "colab_type": "code",
    "id": "1B_E9OuP7Cbv"
   },
   "outputs": [],
   "source": []
  },
  {
   "cell_type": "code",
   "execution_count": null,
   "metadata": {
    "colab": {},
    "colab_type": "code",
    "id": "vwbGdQAn7Cbx"
   },
   "outputs": [],
   "source": []
  }
 ],
 "metadata": {
  "colab": {
   "collapsed_sections": [],
   "include_colab_link": true,
   "name": "matplotlib1.0.ipynb",
   "provenance": [],
   "version": "0.3.2"
  },
  "kernelspec": {
   "display_name": "Python 3",
   "language": "python",
   "name": "python3"
  },
  "language_info": {
   "codemirror_mode": {
    "name": "ipython",
    "version": 3
   },
   "file_extension": ".py",
   "mimetype": "text/x-python",
   "name": "python",
   "nbconvert_exporter": "python",
   "pygments_lexer": "ipython3",
   "version": "3.6.6"
  }
 },
 "nbformat": 4,
 "nbformat_minor": 4
}
