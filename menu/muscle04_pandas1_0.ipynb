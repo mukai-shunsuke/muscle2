{
 "cells": [
  {
   "cell_type": "markdown",
   "metadata": {
    "colab_type": "text",
    "id": "ASz_Gm82JyfY"
   },
   "source": [
    "#  pandas\n",
    " \n",
    "困ったら、公式ページ(例えば、[pandas0.23 API reference](https://pandas.pydata.org/pandas-docs/version/0.23.0/api.html))を見るのが一番である.\n",
    "\n",
    "ただし、Pandasの機能は豊富すぎて網羅するとわかりにくくなる．ここではデータ解析でよく使うテクニックだけを紹介する．\n",
    "\n",
    "まずpandasモジュール（パッケージ）をインポートする．慣例に従い *pd* という別名をつけておく．"
   ]
  },
  {
   "cell_type": "code",
   "execution_count": null,
   "metadata": {
    "colab": {},
    "colab_type": "code",
    "id": "iiHM8ujmJyfb"
   },
   "outputs": [],
   "source": [
    "import pandas as pd"
   ]
  },
  {
   "cell_type": "code",
   "execution_count": null,
   "metadata": {
    "colab": {},
    "colab_type": "code",
    "id": "B8b8PpXZJyfk"
   },
   "outputs": [],
   "source": [
    "df = pd.read_csv('http://logopt.com/data/iris.data', names=['がく片長','がく片幅','花びら長','花びら幅', '種類'])"
   ]
  },
  {
   "cell_type": "code",
   "execution_count": null,
   "metadata": {
    "colab": {
     "base_uri": "https://localhost:8080/",
     "height": 195
    },
    "colab_type": "code",
    "id": "bq19ZbM1Jyfq",
    "outputId": "eae95790-6c37-4961-80d3-6336d1bc3447"
   },
   "outputs": [],
   "source": [
    "df.head() # headメソッドで最初の5つだけを表示（最後を表示するにはtailを使う；やってみよう！）"
   ]
  },
  {
   "cell_type": "markdown",
   "metadata": {
    "colab_type": "text",
    "id": "DS3Ndx7pJyfu"
   },
   "source": [
    "### 問題\n",
    "\n",
    "ワインに関するデータセットから，wineデータを読み込んで，wineという名前でデータフレームに保管せよ．\n",
    "\n",
    "元データはこちらに格納されている．\n",
    "\n",
    "http://logopt.com/data/wine.data\n",
    "\n",
    "列名は https://archive.ics.uci.edu/ml/datasets/Wine で解説されているが，必要ならば以下のリストを用いて，列名を設定して読み込め．\n",
    "\n",
    "``` python \n",
    "L = [ 'Alcohol', 'Malic','Ash', 'Alcalinity', 'Magnesium', 'Phenols', 'Flavanoids', 'Nonflavanoid', 'Proanthocyanins', 'Color', 'Hue', 'OD280', 'OD315', 'Proline']  \n",
    "```\n",
    "\n",
    "さらに，最後の5つのデータを表示させて確認せよ．"
   ]
  },
  {
   "cell_type": "code",
   "execution_count": null,
   "metadata": {
    "colab": {},
    "colab_type": "code",
    "id": "BRNBc3JjJyfv"
   },
   "outputs": [],
   "source": []
  },
  {
   "cell_type": "markdown",
   "metadata": {
    "colab_type": "text",
    "id": "kAoRnGvlJyfx"
   },
   "source": [
    "### 問題\n",
    "\n",
    "車の燃費に関するデータセットから，Auto MPGデータを読み込んで，carという名前でデータフレームに保管せよ．\n",
    "\n",
    "元データはこちらに格納されている．\n",
    "\n",
    "http://logopt.com/data/auto-mpg.data\n",
    "\n",
    "データを確認してみると，このデータはカンマ(,)区切り（これがread_csv関数の規定値）ではなく，空白で区切られている．\n",
    "\n",
    "このような場合には，read_csvの引数の delim_whitespace をTrueに設定しておく必要がある．\n",
    "\n",
    "列名は https://archive.ics.uci.edu/ml/datasets/Auto+MPG で解説されているが，必要ならば以下のリストを用いて，列名を設定して読み込め．\n",
    "\n",
    "``` python \n",
    "L = ['mpg', 'cylinders', 'displacement', 'horsepower','weight', 'acceleration','year','origin', 'name'] \n",
    "```\n",
    "\n",
    "さらに，最初と最後の5つのデータを表示させて確認せよ．"
   ]
  },
  {
   "cell_type": "code",
   "execution_count": null,
   "metadata": {
    "colab": {},
    "colab_type": "code",
    "id": "XWkaLLINJyfy"
   },
   "outputs": [],
   "source": []
  },
  {
   "cell_type": "markdown",
   "metadata": {
    "colab_type": "text",
    "id": "gVxK-2AfJyf1"
   },
   "source": [
    "### データフレームの属性\n",
    "\n",
    "pandasのデータフレームは，Excelの表のようなものなので，行と列でアクセスできる．\n",
    "\n",
    "行に付加されたラベルを**インデックス(index)**とよぶ．一番左端 $0,1,2,3.\\ldots$ と表示されている太字の列がインデックスである．\n",
    "これは**index属性**でアクセスできる．"
   ]
  },
  {
   "cell_type": "code",
   "execution_count": null,
   "metadata": {
    "colab": {
     "base_uri": "https://localhost:8080/",
     "height": 213
    },
    "colab_type": "code",
    "id": "VfL7u1EzJyf2",
    "outputId": "11e1277b-20fe-415b-8fb9-e4a875bf7308"
   },
   "outputs": [],
   "source": [
    "df = pd.read_csv('http://logopt.com/data/iris.data', names=['がく片長','がく片幅','花びら長','花びら幅', '種類'])\n",
    "print(df.index) #インデックスは0から149までの整数であることが表示される． \n",
    "df.head()"
   ]
  },
  {
   "cell_type": "markdown",
   "metadata": {
    "colab_type": "text",
    "id": "5vhsR4SBJyf6"
   },
   "source": [
    "列の名前は，番上に表示されている太字の行であり，これは**columns属性**でアクセスできる．"
   ]
  },
  {
   "cell_type": "code",
   "execution_count": null,
   "metadata": {
    "colab": {
     "base_uri": "https://localhost:8080/",
     "height": 34
    },
    "colab_type": "code",
    "id": "EnZZY-fHJyf6",
    "outputId": "445f5b13-bb89-47f9-b29f-3b1b8102209c"
   },
   "outputs": [],
   "source": [
    "df.columns"
   ]
  },
  {
   "cell_type": "markdown",
   "metadata": {
    "colab_type": "text",
    "id": "j3x4Aco3Jyf9"
   },
   "source": [
    "データ自身は，データフレームの**values属性**に保管されている．これはNumPyの多次元配列(ndarray)である(type関数を用いて確認してみる）．\n",
    "したがって，データの最初の行を表示させるには，df.values[0]とすればよい．\n",
    "0行4列目（最初のアヤメの名前）を表示させるには，df.values[0][4]とすればよい．"
   ]
  },
  {
   "cell_type": "code",
   "execution_count": null,
   "metadata": {
    "colab": {
     "base_uri": "https://localhost:8080/",
     "height": 52
    },
    "colab_type": "code",
    "id": "vIBMOPLgJyf-",
    "outputId": "3e81ebdd-4da9-4d4e-be61-72de995e052a"
   },
   "outputs": [],
   "source": [
    "print( type(df.values) ) #values属性はNumPyのn次元配列である．\n",
    "df.values[0][4] #0行4列目の要素は 'Iris-sentosa'である．"
   ]
  },
  {
   "cell_type": "markdown",
   "metadata": {
    "colab_type": "text",
    "id": "4akbLaZnJygB"
   },
   "source": [
    "データの概要を知るためのメソッドが**describe()**である．（メソッドなので関数と同じように最後に ()を付けるのを忘れずに．）"
   ]
  },
  {
   "cell_type": "code",
   "execution_count": null,
   "metadata": {
    "colab": {
     "base_uri": "https://localhost:8080/",
     "height": 284
    },
    "colab_type": "code",
    "id": "wpih0XZCJygC",
    "outputId": "dba8b0cf-290f-4474-fff5-0a5c7a0505d7"
   },
   "outputs": [],
   "source": [
    "df.describe() #count（データ数），mean（平均），std（標準偏差），min（最小値）など"
   ]
  },
  {
   "cell_type": "markdown",
   "metadata": {
    "colab_type": "text",
    "id": "0VuGGsMFJygE"
   },
   "source": [
    "### 問題\n",
    "\n",
    "車の燃費データに対して，アヤメのデータと同じように，インデックス，列の名前とデータの概要を表示せよ．\n",
    "\n",
    "さらに，その情報を用いて燃費(MPG: Mile Per Gallon)の平均と標準偏差を答えよ．\n"
   ]
  },
  {
   "cell_type": "code",
   "execution_count": null,
   "metadata": {
    "colab": {},
    "colab_type": "code",
    "id": "mypegbiIJygF"
   },
   "outputs": [],
   "source": []
  },
  {
   "cell_type": "markdown",
   "metadata": {
    "colab_type": "text",
    "id": "pQNf4Z8sJygH"
   },
   "source": [
    "### 列へのアクセス\n",
    "\n",
    "列は辞書と同じようにアクセスできる．\n",
    "\n",
    "たとえば，'がく片幅'と名付けられた列を切り出すには，** df['がく片幅'] ** とすればよい．\n",
    "\n",
    "この記法の短縮版として，データフレームの属性としてアクセスする方法もある．\n",
    "\n",
    "たとえば，\n",
    "\n",
    "``` python\n",
    " df.がく片幅\n",
    "```\n",
    "\n",
    "とすると同じ結果が返される．\n",
    "\n",
    "切り出された列は**シリーズ(series)**とよばれ，NumPyの配列と同じような性質をもつ．\n",
    "\n",
    "たとえば，'がく片長'と名付けられた列のi番目からj-1番目までを切り出したい場合には，\n",
    "\n",
    "```python\n",
    " df['がく片長'][i:j] \n",
    "```\n",
    "\n",
    "とすればよい．"
   ]
  },
  {
   "cell_type": "code",
   "execution_count": null,
   "metadata": {
    "colab": {
     "base_uri": "https://localhost:8080/",
     "height": 210
    },
    "colab_type": "code",
    "id": "WVwpxs7KJygJ",
    "outputId": "1f4f3757-a371-4080-d20d-2bda2cf0f81b"
   },
   "outputs": [],
   "source": [
    "df['がく片長'][:10]  #列名が'がく片長'の列の最初の9個のデータから成るシリーズ（series：インデックスとデータの組）"
   ]
  },
  {
   "cell_type": "code",
   "execution_count": null,
   "metadata": {
    "colab": {
     "base_uri": "https://localhost:8080/",
     "height": 87
    },
    "colab_type": "code",
    "id": "ZMortNd8JygL",
    "outputId": "f1e96425-20b9-448d-dbb8-8465da5d8357"
   },
   "outputs": [],
   "source": [
    "df.がく片長[:3]"
   ]
  },
  {
   "cell_type": "markdown",
   "metadata": {
    "colab_type": "text",
    "id": "HwJOXwSrJygN"
   },
   "source": [
    "### 行列の要素（Excelのセルに相当）へのアクセス\n",
    "\n",
    "行と列を指定して要素を抽出するには，**loc**，**iloc**，**ix**属性を用いる．\n",
    "\n",
    "文法はいずれも同じで，以下の通り．\n",
    "\n",
    "```python\n",
    "df.iloc[行の切り出し,列の切り出し]  #番号でのアクセス\n",
    "df.loc[行の切り出し,列の切り出し]   #ラベルを用いたアクセス\n",
    "df.ix[行の切り出し,列の切り出し]    #混合型（混乱するので使用すべきでない！）\n",
    "```\n",
    "\n",
    "行と列はラベルもしくは番号でアクセスできる．**ラベル**とは，行に対してはインデックス，列に対しては列名を指す．\n",
    "\n",
    "* ilocは番号によるアクセスを行う．\n",
    "\n",
    "切り出しは，リストと同様に，番号 $i:j$ とすると $i$番目から$j-1$番目までが抽出される．\n",
    "\n",
    "* locはラベルによるアクセスを行う．\n",
    "\n",
    "切り出しは，リストやilocと異なり，境界も含んだものになる．すなわち，$i:j$ とするとラベル $i$からラベル $j$ までが抽出される．\n",
    "\n",
    "* ixはラベルと番号の両方でアクセス可能である．\n",
    "\n",
    "ただし，インデックスが整数の場合には，インデックス（ラベル）が優先される．\n",
    "\n",
    "つまり，番号 $i:j$ とすると $i$番目から$j$番目（注意！最後の要素が含まれる！）までが抽出される．\n",
    "\n",
    "インデックスが整数の場合には，**リストと異なり最後の要素が含まれる \n",
    "\n",
    "切り出しを行うかわりに，抽出したい列名のリストを用いて，$[ 'がく片長', '花びら幅'  ]$ などと切り出しをしてもよい． \n",
    "\n",
    "\n",
    "通常のスライシングと同様に，すべての行もしくは列を抽出したい場合には，$ : $ と記述すればよい．\n",
    "\n",
    "たとえば，1列目から2列目までから成るデータフレームを切り出すには，\n",
    "\n",
    "```python\n",
    " df.iloc[ : , 1:3]  \n",
    "```\n",
    "\n",
    "とすればよい．\n"
   ]
  },
  {
   "cell_type": "code",
   "execution_count": null,
   "metadata": {
    "colab": {
     "base_uri": "https://localhost:8080/",
     "height": 166
    },
    "colab_type": "code",
    "id": "fuC1Bsh2JygP",
    "outputId": "ec473eb7-ebe7-48ce-de50-35b2796362b9"
   },
   "outputs": [],
   "source": [
    "df.iloc[1:5,1:4] #1行目から4行目まで，1列目から3列目までを抽出"
   ]
  },
  {
   "cell_type": "code",
   "execution_count": null,
   "metadata": {
    "colab": {
     "base_uri": "https://localhost:8080/",
     "height": 195
    },
    "colab_type": "code",
    "id": "M45lWB7NJygR",
    "outputId": "0ea1bfb6-cf6f-4fe1-a7b7-c78c156888e7"
   },
   "outputs": [],
   "source": [
    "df.loc[1:5, 'がく片長':'花びら幅' ] #行をインデックスで，}列を列名で指定（最後が含まれることに注意！）"
   ]
  },
  {
   "cell_type": "code",
   "execution_count": null,
   "metadata": {
    "colab": {
     "base_uri": "https://localhost:8080/",
     "height": 195
    },
    "colab_type": "code",
    "id": "aLJ44ZLxJygV",
    "outputId": "26a67fcb-728b-4284-d7e9-353ac818cb22"
   },
   "outputs": [],
   "source": [
    "df.loc[1:5, ['がく片長','花びら幅'] ]  #列をリストで指定"
   ]
  },
  {
   "cell_type": "markdown",
   "metadata": {
    "colab_type": "text",
    "id": "YRlwSh7PJygc"
   },
   "source": [
    "### 問題\n",
    "\n",
    "1. iloc属性を用いて5番目から8番目までの行の2,3列目を抽出せよ．\n",
    "\n",
    "2. loc属性を用いて'種類'だけの列から成るシリーズを抽出せよ．\n",
    "\n",
    "3. インデックスが $2,6,4$ の行と'がく片長','花びら幅','花びら長'の列から成るデータフレームを抽出せよ．\n"
   ]
  },
  {
   "cell_type": "code",
   "execution_count": null,
   "metadata": {
    "colab": {},
    "colab_type": "code",
    "id": "MaTnfPjqJygd"
   },
   "outputs": [],
   "source": []
  },
  {
   "cell_type": "code",
   "execution_count": null,
   "metadata": {
    "colab": {},
    "colab_type": "code",
    "id": "p37aAq4GJygf"
   },
   "outputs": [],
   "source": []
  },
  {
   "cell_type": "code",
   "execution_count": null,
   "metadata": {
    "colab": {},
    "colab_type": "code",
    "id": "c43_bH-mJygj"
   },
   "outputs": [],
   "source": []
  },
  {
   "cell_type": "markdown",
   "metadata": {
    "colab_type": "text",
    "id": "C9A_AAEVJygl"
   },
   "source": [
    "# データの並べ替え\n",
    "\n",
    "車の燃費データを列'mpg'の昇順に並べ替えてみよう．そのためには，データフレームのsort_valuesメソッドを用いる．\n",
    "\n",
    "```python\n",
    " car.sort_values('mpg')\n",
    "```\n",
    "\n",
    "これだと燃費の悪い順に並ぶので，良い順に並べてみよう．そのためには，引数の ascending を False に設定すればよい（規定値はTrueで昇順）．\n",
    "\n",
    "以下に示すようにマツダのファミリア(glc はgreat little carの略称）が最もよいことが分かる．\n"
   ]
  },
  {
   "cell_type": "code",
   "execution_count": null,
   "metadata": {
    "colab": {
     "base_uri": "https://localhost:8080/",
     "height": 195
    },
    "colab_type": "code",
    "id": "Yi1MmxsgJygm",
    "outputId": "6ce0ebc1-afaf-4594-9678-834bc511120d"
   },
   "outputs": [],
   "source": [
    "L = ['mpg', 'cylinders', 'displacement', 'horsepower','weight', 'acceleration','year','origin', 'name']\n",
    "car = pd.read_csv('http://logopt.com/data/auto-mpg.data', delim_whitespace=True, names=L)\n",
    "car.sort_values('mpg',ascending=False).head()"
   ]
  },
  {
   "cell_type": "markdown",
   "metadata": {
    "colab_type": "text",
    "id": "55NrayepJygp"
   },
   "source": [
    "### 問題\n",
    "\n",
    "車の燃費データを加速(acceleration)の良い順（大きいほど良い）に並べてみよう．どの車が一番加速が良いか？\n",
    "\n",
    "また，一番重たい(weight)車は何か調べてみよう．\n"
   ]
  },
  {
   "cell_type": "code",
   "execution_count": null,
   "metadata": {
    "colab": {},
    "colab_type": "code",
    "id": "bZVaQjPpJygq"
   },
   "outputs": [],
   "source": []
  },
  {
   "cell_type": "markdown",
   "metadata": {
    "colab_type": "text",
    "id": "O4LPgS-jJygr"
   },
   "source": [
    "# データの抽出\n",
    "\n",
    "データフレームからデータを条件によってフィルタリングしたいことがままある．\n",
    "\n",
    "これは，NumPyのインデックス配列の概念と同じようにして行うことができる．\n",
    "\n",
    "たとえば，アヤメのデータに対して「がく片長」が7以上のときTrue，そうでないときFalseのシリーズ（これはNumPyの配列と同じ機能をもつ）は，\n",
    "\n",
    "``` python \n",
    "df.がく片長 >=7.0 \n",
    "```\n",
    "\n",
    "で生成される．この配列をインデックスとしてアヤメのデータフレーム df からデータを切り出すことによって，「がく片長」が7以上のデータのみを抽出することができる．\n",
    "\n",
    "これから，がく片長」が7以上のアヤメは1つを除いてバージニカであることが分かる．"
   ]
  },
  {
   "cell_type": "code",
   "execution_count": null,
   "metadata": {
    "colab": {
     "base_uri": "https://localhost:8080/",
     "height": 432
    },
    "colab_type": "code",
    "id": "UdH_TbYmJygs",
    "outputId": "5333a51e-5fc0-4d68-cc05-7742b37ffded"
   },
   "outputs": [],
   "source": [
    "df[ df.がく片長 >=7.0 ]"
   ]
  },
  {
   "cell_type": "markdown",
   "metadata": {
    "colab_type": "text",
    "id": "4XDLm6QOJygu"
   },
   "source": [
    "### 論理条件による抽出 & (and)\n",
    "\n",
    "今度は「がく片長」だけでなく「花びら長」も考慮して区別しきれなかった2種類のアヤメを判別しよう．\n",
    "\n",
    "「がく片長」が7以上で**かつ**「花びら長」が5以上のアヤメをデータフレームdfから抽出するには，and をあらわす**&** を用いる．\n",
    "\n",
    "各条件式を( ) で括るのを忘れないように！\n",
    "\n",
    "この2つの条件を満たすのはバージニカだけのようだ．"
   ]
  },
  {
   "cell_type": "code",
   "execution_count": null,
   "metadata": {
    "colab": {
     "base_uri": "https://localhost:8080/",
     "height": 402
    },
    "colab_type": "code",
    "id": "nxbz0kKdJygx",
    "outputId": "8701c6f4-4e70-4d5d-c024-d80b3f32427a"
   },
   "outputs": [],
   "source": [
    "df[ (df.がく片長 >=7.0) & (df.花びら長>=5.0)  ]"
   ]
  },
  {
   "cell_type": "markdown",
   "metadata": {
    "colab_type": "text",
    "id": "LUNVDy4iJygy"
   },
   "source": [
    "### 論理条件による抽出 | (or)\n",
    "\n",
    "今度は「がく片長」が4.8未満または「花びら長」が1.3未満のものを抽出してみよう．\n",
    "\n",
    "「または」は or をあらわす**|** を用いる．\n",
    "\n",
    "各条件式を( ) で括るのを忘れないように！\n",
    "\n",
    "この2つの条件を満たすのはセントーサだけのようだ．"
   ]
  },
  {
   "cell_type": "code",
   "execution_count": null,
   "metadata": {
    "colab": {
     "base_uri": "https://localhost:8080/",
     "height": 432
    },
    "colab_type": "code",
    "id": "9yltKHr9Jygz",
    "outputId": "51276f6c-94b8-45d1-de99-d0c4cbfc681f"
   },
   "outputs": [],
   "source": [
    "df[ (df.がく片長 <4.8) | (df.花びら長 < 1.3) ]"
   ]
  },
  {
   "cell_type": "markdown",
   "metadata": {
    "colab_type": "text",
    "id": "sBi2Gqv7Jyg1"
   },
   "source": [
    "### 問題\n",
    "\n",
    "1. 花びら幅が 0.5 より小さいアヤメを抽出したデータフレームを生成せよ．\n",
    "\n",
    "2. 花びら幅が 0.5 未満でかつ花びら長が1.5未満のアヤメを抽出せよ．\n",
    "\n",
    "3. 種類が 'Iris-setosa'のアヤメだけを抽出したデータフレームを生成し，データの概要のdescribeメソッドを用いて表示せよ．\n",
    "同様の操作を他の2種類のアヤメに対しても行え．これから各アヤメの種類の特徴が分かるか考察せよ．\n"
   ]
  },
  {
   "cell_type": "code",
   "execution_count": null,
   "metadata": {
    "colab": {},
    "colab_type": "code",
    "id": "tM4isoJCJyg1"
   },
   "outputs": [],
   "source": []
  },
  {
   "cell_type": "markdown",
   "metadata": {
    "colab_type": "text",
    "id": "KcEdo5ZqJyg3"
   },
   "source": [
    "# グループ化\n",
    "\n",
    "上では種類が 'Iris-setosa'のアヤメだけを抽出して，それに対する平均などを計算して分析を行った．\n",
    "\n",
    "これをすべてのアヤメの種類に対して一度にできたら便利そうだ．\n",
    "\n",
    "それを行う方法が**グループ化**であり，メソッド名は**groupby**だ．\n",
    "\n",
    "列「種類」に対してグループ化を行い，グループ内のデータに対する平均をとるには，meanメソッドを用いればよい．\n",
    "\n",
    "（より詳細な分析をしたい場合には describeメソッドを使えばよい．）"
   ]
  },
  {
   "cell_type": "code",
   "execution_count": null,
   "metadata": {
    "colab": {
     "base_uri": "https://localhost:8080/",
     "height": 224
    },
    "colab_type": "code",
    "id": "jZBj7yh-Jyg5",
    "outputId": "374740bc-798b-4a6e-c97d-f3cfe6bf8469"
   },
   "outputs": [],
   "source": [
    "df.groupby('種類').mean()\n",
    "df.groupby('種類').describe()"
   ]
  },
  {
   "cell_type": "markdown",
   "metadata": {
    "colab_type": "text",
    "id": "Rnj2ftY3Jyg7"
   },
   "source": [
    "### 問題\n",
    "\n",
    "以下の国別のアルコール摂取量のデータを用いて，大陸(continent)別のビール，蒸留酒，ワインの摂取量の平均を求めよ．"
   ]
  },
  {
   "cell_type": "code",
   "execution_count": null,
   "metadata": {
    "colab": {
     "base_uri": "https://localhost:8080/",
     "height": 195
    },
    "colab_type": "code",
    "id": "A85lZ9lYJyg7",
    "outputId": "e9e62a7a-1087-454a-d0d9-2c6b15601723"
   },
   "outputs": [],
   "source": [
    "drinks = pd.read_csv('http://logopt.com/data/drinks.csv')\n",
    "drinks.head()"
   ]
  },
  {
   "cell_type": "code",
   "execution_count": null,
   "metadata": {
    "colab": {},
    "colab_type": "code",
    "id": "9VwlO3JrJyg_"
   },
   "outputs": [],
   "source": []
  },
  {
   "cell_type": "markdown",
   "metadata": {
    "colab_type": "text",
    "id": "rgGuILR7JyhA"
   },
   "source": [
    "# 行と列の削除\n",
    "\n",
    "前に学んだ iloc や locを用いても行や列の削除を行うことができるが，1行だけとか1列だけを削除したい場合には ** dropメソッド **を用いる方が簡単だ．\n",
    "\n",
    "\n",
    "例として，大陸別の飲酒データから，大陸（continent)を表す列を削除してみよう．\n",
    "\n",
    "ここでdropメソッドの重要な引数として**axis**がある．これは軸を表し，**axis=0**のときが行の削除で，**axis=1**のときが列の削除になる．\n"
   ]
  },
  {
   "cell_type": "code",
   "execution_count": null,
   "metadata": {
    "colab": {
     "base_uri": "https://localhost:8080/",
     "height": 195
    },
    "colab_type": "code",
    "id": "YoS6AxcMJyhB",
    "outputId": "38216a1f-67f6-4b3d-96fb-0fd969c2e96c"
   },
   "outputs": [],
   "source": [
    "drinks = pd.read_csv('http://logopt.com/data/drinks.csv')\n",
    "drinks.head()"
   ]
  },
  {
   "cell_type": "code",
   "execution_count": null,
   "metadata": {
    "colab": {
     "base_uri": "https://localhost:8080/",
     "height": 195
    },
    "colab_type": "code",
    "id": "0eJP9mZxJyhC",
    "outputId": "0f05aa15-ade9-4079-ef10-010adec95f36"
   },
   "outputs": [],
   "source": [
    "drinks.drop('continent', axis=1).head() #　大陸(continent)の列を削除"
   ]
  },
  {
   "cell_type": "code",
   "execution_count": null,
   "metadata": {
    "colab": {
     "base_uri": "https://localhost:8080/",
     "height": 195
    },
    "colab_type": "code",
    "id": "g_Qcvh4bJyhE",
    "outputId": "e30e76d3-6d42-45fe-e3de-560eff279270"
   },
   "outputs": [],
   "source": [
    "drinks.drop(2, axis=0).head() #インデックス２の行を削除"
   ]
  },
  {
   "cell_type": "markdown",
   "metadata": {
    "colab_type": "text",
    "id": "eGXaYX3nJyhG"
   },
   "source": [
    "### 問題\n",
    "\n",
    "* アヤメのデータを読み込み「がく片長」の列を削除した新しいデータフレームを生成せよ．\n",
    "\n",
    "* 上のデータフレームから3番目と5番目の行を削除せよ．（ヒント：元のデータデータフレームに削除を適用するためには，dropメソッドinplace引数をTrueに設定する．既定値はinplace=Falseである．）\n"
   ]
  },
  {
   "cell_type": "code",
   "execution_count": null,
   "metadata": {
    "colab": {},
    "colab_type": "code",
    "id": "4hzgseyZJyhH"
   },
   "outputs": [],
   "source": []
  },
  {
   "cell_type": "markdown",
   "metadata": {
    "colab_type": "text",
    "id": "ZQyPwACSJyhI"
   },
   "source": [
    "# 欠損値の処理\n",
    "\n",
    "実際のデータでは，値が入っていない欠損値を含む場合が多い．欠損値はpandasでは**NaN**(Not A Number）と名付けられた特殊な値で表される．これは，numpyのnanオブジェクトであり，read_csv関数でデータを読んだときに，値が入っていない場合には，自動的にNaNが代入される．\n",
    "\n",
    "例としてUFO（未確認飛行物体）の目撃情報のデータを読んでみよう．"
   ]
  },
  {
   "cell_type": "code",
   "execution_count": null,
   "metadata": {
    "colab": {
     "base_uri": "https://localhost:8080/",
     "height": 195
    },
    "colab_type": "code",
    "id": "3fdUWDKlJyhK",
    "outputId": "c6053294-0a4a-4707-f300-eba2abf3a291"
   },
   "outputs": [],
   "source": [
    "ufo = pd.read_csv('http://logopt.com/data/ufo.csv')\n",
    "ufo.tail()"
   ]
  },
  {
   "cell_type": "markdown",
   "metadata": {
    "colab_type": "text",
    "id": "AN09L00RJyhO"
   },
   "source": [
    "データには多くの**NaN**（欠損値）を含まれる．\n",
    "\n",
    "欠損値のある行を削除するには ** dropnaメソッド ** を用いる．\n"
   ]
  },
  {
   "cell_type": "code",
   "execution_count": null,
   "metadata": {
    "colab": {
     "base_uri": "https://localhost:8080/",
     "height": 195
    },
    "colab_type": "code",
    "id": "HQ8ulp2dJyhP",
    "outputId": "b492ca90-7754-4a99-e680-5f5df1565dea"
   },
   "outputs": [],
   "source": [
    "ufo.dropna().tail()"
   ]
  },
  {
   "cell_type": "markdown",
   "metadata": {
    "colab_type": "text",
    "id": "YbgK_Rs-JyhR"
   },
   "source": [
    "欠損値を適当な値で置き換えたい場合には**fillnaメソッド**を用いる．\n",
    "\n",
    "たとえば，欠損値を'Unknown'で置き換えたい場合には，以下のようにする．\n"
   ]
  },
  {
   "cell_type": "code",
   "execution_count": null,
   "metadata": {
    "colab": {
     "base_uri": "https://localhost:8080/",
     "height": 195
    },
    "colab_type": "code",
    "id": "Wsaok4rkJyhS",
    "outputId": "3d0201f1-c90d-49c3-ee70-14afc6f94a89"
   },
   "outputs": [],
   "source": [
    "ufo.fillna('Unknown').tail()"
   ]
  },
  {
   "cell_type": "markdown",
   "metadata": {
    "colab_type": "text",
    "id": "OEsvLCLbJyhW"
   },
   "source": [
    "### 問題\n",
    "\n",
    "* 上のUFOデータに対して，町(City列）の欠損値を'場所不明'に，色（Colors Reported列）の欠損値を'たぶん白'に置き換えよ．\n",
    "\n",
    "（ヒント１：元のデータデータフレームに欠損値処理の結果を適用するためには，inplace引数をTrueに設定する．既定値はinplace=Falseである．）\n",
    "\n",
    "（ヒント２：特定の列を選択する方法については，だいぶ前に学んだはず．）\n"
   ]
  },
  {
   "cell_type": "code",
   "execution_count": null,
   "metadata": {
    "colab": {},
    "colab_type": "code",
    "id": "yoCMKGgoJyhX"
   },
   "outputs": [],
   "source": []
  },
  {
   "cell_type": "markdown",
   "metadata": {
    "colab_type": "text",
    "id": "KD1_F54RJyhb"
   },
   "source": [
    "# データ型の変更と文字列の操作\n",
    "\n",
    "データフレームの各列は，同じデータ型をもつ必要がある（NumPyの配列だからだ）．\n",
    "\n",
    "データ型のチェックは，デーフレームの**dtypes属性**をみればよい．\n",
    "\n",
    "データ型を変更したいときには，**astypeメソッド**を用いる．引数は変更したいデータの型を入れる（整数ならint，浮動小数点数ならfloatなど）．\n",
    "\n",
    "例として国別の飲酒量のデータを用いる．"
   ]
  },
  {
   "cell_type": "code",
   "execution_count": null,
   "metadata": {
    "colab": {
     "base_uri": "https://localhost:8080/",
     "height": 140
    },
    "colab_type": "code",
    "id": "Rh1HcHRyJyhb",
    "outputId": "d26a73ac-43eb-4ffc-de76-4397512c46eb"
   },
   "outputs": [],
   "source": [
    "drinks = pd.read_csv('http://logopt.com/data/drinks.csv')\n",
    "drinks.dtypes"
   ]
  },
  {
   "cell_type": "markdown",
   "metadata": {
    "colab_type": "text",
    "id": "ANSYCyXTJyhd"
   },
   "source": [
    "beer_servingの列は整数になっているが，astypeメソッドを用いて，データ型を浮動小数点数**float**に変えてみよう．"
   ]
  },
  {
   "cell_type": "code",
   "execution_count": null,
   "metadata": {
    "colab": {
     "base_uri": "https://localhost:8080/",
     "height": 140
    },
    "colab_type": "code",
    "id": "sT2s6tP9Jyhe",
    "outputId": "4d7a264c-118e-487a-88bc-2e590d927211"
   },
   "outputs": [],
   "source": [
    "drinks['beer_servings'] = drinks.beer_servings.astype(float)\n",
    "drinks.dtypes"
   ]
  },
  {
   "cell_type": "markdown",
   "metadata": {
    "colab_type": "text",
    "id": "4WaSWNtZJyhg"
   },
   "source": [
    "read_csv関数で読み込むときに，データ型を指定することもできる．\n",
    "\n",
    "引数の**dtype**に列名をキー，データ型を値とした辞書で指定する．"
   ]
  },
  {
   "cell_type": "code",
   "execution_count": null,
   "metadata": {
    "colab": {
     "base_uri": "https://localhost:8080/",
     "height": 140
    },
    "colab_type": "code",
    "id": "WBt_2M3tJyhg",
    "outputId": "20df6268-1ebc-403e-a265-2637ca894e47"
   },
   "outputs": [],
   "source": [
    "drinks = pd.read_csv('http://bit.ly/drinksbycountry', dtype={'beer_servings':float, 'spirit_servings':float})\n",
    "drinks.dtypes"
   ]
  },
  {
   "cell_type": "markdown",
   "metadata": {
    "colab_type": "text",
    "id": "tQAzyhfmJyhi"
   },
   "source": [
    "データに文字列の操作を行いたいときには，**str**を付加してから，文字列のメソッドを書く．\n",
    "\n",
    "たとえば，国名(country)を大文字に変換したいときには，**str.upper()**とする．"
   ]
  },
  {
   "cell_type": "code",
   "execution_count": null,
   "metadata": {
    "colab": {
     "base_uri": "https://localhost:8080/",
     "height": 195
    },
    "colab_type": "code",
    "id": "AcsOgQpqJyhj",
    "outputId": "3bf32693-6edc-4f79-ab47-c28ef65f1dc1"
   },
   "outputs": [],
   "source": [
    "drinks['country'] = drinks.country.str.upper()\n",
    "drinks.head()"
   ]
  },
  {
   "cell_type": "markdown",
   "metadata": {
    "colab_type": "text",
    "id": "VYniXbNlJyhl"
   },
   "source": [
    "### 問題\n",
    "\n",
    "1. 国別の飲酒量のデータdrinks.csvを，すべての数値を浮動小数点数として読み込め．\n",
    "2. 国別の飲酒量のデータdrinks.csvを読み込み，大陸列にある'Asia'を'アジア'に置換せよ．\n",
    "（ヒント：文字列の置換はreplaceメソッドを用いる．）\n",
    "\n"
   ]
  },
  {
   "cell_type": "code",
   "execution_count": null,
   "metadata": {
    "colab": {},
    "colab_type": "code",
    "id": "MWVz7kEQJyhl"
   },
   "outputs": [],
   "source": []
  },
  {
   "cell_type": "markdown",
   "metadata": {
    "colab_type": "text",
    "id": "c-Lm-km0Jyho"
   },
   "source": [
    "# 日付時刻型 datetime の使用法\n",
    "\n",
    "日付や時刻は**datetime**オブジェクトとして管理すると楽だ．\n",
    "\n",
    "まずは未確認飛行物体のデータufoを読み込んでTime列のデータ型を確認してみよう．\n",
    "\n",
    "データ型のチェックは，上で学んだように**dtypes属性**をみればよい．"
   ]
  },
  {
   "cell_type": "code",
   "execution_count": null,
   "metadata": {
    "colab": {
     "base_uri": "https://localhost:8080/",
     "height": 140
    },
    "colab_type": "code",
    "id": "WaoKBtYTJyho",
    "outputId": "b8c66ab0-881b-4959-eefb-70112f96052f"
   },
   "outputs": [],
   "source": [
    "ufo = pd.read_csv('http://logopt.com/data/ufo.csv')\n",
    "ufo.dtypes"
   ]
  },
  {
   "cell_type": "markdown",
   "metadata": {
    "colab_type": "text",
    "id": "hM8HNx0xJyhq"
   },
   "source": [
    "Time列のデータ型は一般の object となっているようだ．\n",
    "\n",
    "これを日付時刻型 datetime に変換するには，pandasの**pd.to_datetime関数**を用いる．\n",
    "\n",
    "変換した列を新たに DateTime 列に保管しておく．"
   ]
  },
  {
   "cell_type": "code",
   "execution_count": null,
   "metadata": {
    "colab": {
     "base_uri": "https://localhost:8080/",
     "height": 195
    },
    "colab_type": "code",
    "id": "AhOmRDcMJyhq",
    "outputId": "2bb7bb01-61e2-4fd4-dd9a-35c13931c1f4"
   },
   "outputs": [],
   "source": [
    "ufo['DateTime'] = pd.to_datetime(ufo.Time) \n",
    "ufo.head()"
   ]
  },
  {
   "cell_type": "code",
   "execution_count": null,
   "metadata": {
    "colab": {
     "base_uri": "https://localhost:8080/",
     "height": 158
    },
    "colab_type": "code",
    "id": "njc3R_meJyhs",
    "outputId": "b8c728e6-66b2-4076-f5d5-0e5be7ddce21"
   },
   "outputs": [],
   "source": [
    "ufo.dtypes #データ型を確認"
   ]
  },
  {
   "cell_type": "code",
   "execution_count": null,
   "metadata": {
    "colab": {
     "base_uri": "https://localhost:8080/",
     "height": 34
    },
    "colab_type": "code",
    "id": "FLHzJfayJyhw",
    "outputId": "d381d904-7d95-446f-becf-e87ed2e4168c"
   },
   "outputs": [],
   "source": [
    "# 日付時刻列の最大値と最小値の差を計算（結果は timedelta 型）し，それを日に換算して表示\n",
    "time_delta = ufo.DateTime.max() - ufo.DateTime.min()\n",
    "time_delta.days"
   ]
  },
  {
   "cell_type": "markdown",
   "metadata": {
    "colab_type": "text",
    "id": "nIQEkP2dJyhx"
   },
   "source": [
    "### 　問題\n",
    "\n",
    "* 未確認飛行物体のデータufoに対して，日付時刻列 DateTime から年を抽出した列　Year を生成せよ．\n",
    "（ヒント：日付時刻型のから年を計算するには，** dt.year**とすればよい．）\n",
    "\n",
    "* 未確認飛行物体のデータufoに対して，日付時刻列 DateTime から曜日を抽出した列 WeekDay を生成せよ．\n",
    "（ヒント：日付時刻型のから曜日を求めるには**dt.weekday**とすればよい．）\n",
    "\n",
    "* 未確認飛行物体のデータufoに対して，2000年以降のデータだけを抽出せよ．\n",
    "（ヒント：2000年ちょうどの日付時刻は ** ts = pd.to_datetime('1/1/2000')** で得られる．）"
   ]
  },
  {
   "cell_type": "code",
   "execution_count": null,
   "metadata": {
    "colab": {},
    "colab_type": "code",
    "id": "Ll-irfr7Jyhy"
   },
   "outputs": [],
   "source": []
  },
  {
   "cell_type": "markdown",
   "metadata": {
    "colab_type": "text",
    "id": "b6XVXmDaJyh1"
   },
   "source": [
    "### データフレームの生成法\n",
    "\n",
    "ここでは，他のPythonオブジェクトからデータフレームやシリーズを生成する方法について述べる．\n",
    "\n",
    "もっと簡単なのは，辞書から生成する方法である．\n",
    "\n",
    "辞書のキーが列名：リストとして与えた値が行になる．\n"
   ]
  },
  {
   "cell_type": "code",
   "execution_count": null,
   "metadata": {
    "colab": {
     "base_uri": "https://localhost:8080/",
     "height": 136
    },
    "colab_type": "code",
    "id": "QuXOSLVVJyh2",
    "outputId": "9bc38033-3805-4b28-9665-17931b8ec39a"
   },
   "outputs": [],
   "source": [
    "D = {'name':['Pikacyu', 'Mickey', 'Kitty'], 'color':['Yellow', 'Black', 'White']}\n",
    "pd.DataFrame(D)"
   ]
  },
  {
   "cell_type": "markdown",
   "metadata": {
    "colab_type": "text",
    "id": "9LjV5LwjJyh3"
   },
   "source": [
    "リストのリスト（入れ子のリスト）として与えることもできるが，列名は別途**columns**で与える必要がある．"
   ]
  },
  {
   "cell_type": "code",
   "execution_count": null,
   "metadata": {
    "colab": {
     "base_uri": "https://localhost:8080/",
     "height": 136
    },
    "colab_type": "code",
    "id": "eRvDTyJIJyh4",
    "outputId": "11385d3d-827e-4462-ca6e-eeee29b6e6dd"
   },
   "outputs": [],
   "source": [
    "L = [ ['Pikacyu', 'Yellow'], ['Mickey', 'Black'], ['Kitty', 'White']]\n",
    "pd.DataFrame(L, columns=['name','color'])"
   ]
  },
  {
   "cell_type": "markdown",
   "metadata": {
    "colab_type": "text",
    "id": "odH8BRluJyh6"
   },
   "source": [
    "NumPyの配列からもデータフレームを生成できる．\n",
    "\n",
    "例として2つのサイコロを5回づつ振ったときの目をランダムに生成した配列に代入し，そこからデータフレームを生成する．"
   ]
  },
  {
   "cell_type": "code",
   "execution_count": null,
   "metadata": {
    "colab": {
     "base_uri": "https://localhost:8080/",
     "height": 195
    },
    "colab_type": "code",
    "id": "haYhXRpeJyh6",
    "outputId": "4ded25ef-18ea-42c7-b794-21315b800da1"
   },
   "outputs": [],
   "source": [
    "import numpy as np\n",
    "Dice = np.random.randint(1,6, size=(5,2))\n",
    "dicedf = pd.DataFrame(Dice, columns=[ 'dice1', 'dice2'] )\n",
    "dicedf"
   ]
  },
  {
   "cell_type": "markdown",
   "metadata": {
    "colab_type": "text",
    "id": "zy2i6WQQJyh9"
   },
   "source": [
    "同様に，コインを5回投げたときの表裏を0,1で表した配列を生成する．"
   ]
  },
  {
   "cell_type": "code",
   "execution_count": null,
   "metadata": {
    "colab": {
     "base_uri": "https://localhost:8080/",
     "height": 195
    },
    "colab_type": "code",
    "id": "ockNnCp2Jyh9",
    "outputId": "a4f9dfc3-1e4e-46a8-bd10-8977474f67db"
   },
   "outputs": [],
   "source": [
    "Coin = np.random.randint(0,2, size=(5,2)) # 引数の（low, high）はhighを含まないことに注意\n",
    "coindf = pd.DataFrame(Coin, columns=[ 'coin1', 'coin2'] )\n",
    "coindf"
   ]
  },
  {
   "cell_type": "markdown",
   "metadata": {
    "colab_type": "text",
    "id": "Rm-S2jAoJyiA"
   },
   "source": [
    "2つのデータフレームを**concat**を用いて合体させる．列方向で合併したいので，**axis=1**と設定する．"
   ]
  },
  {
   "cell_type": "code",
   "execution_count": null,
   "metadata": {
    "colab": {
     "base_uri": "https://localhost:8080/",
     "height": 195
    },
    "colab_type": "code",
    "id": "WjvDaEqzJyiA",
    "outputId": "84963af9-79ed-4e0a-90d1-796e82ab8c41"
   },
   "outputs": [],
   "source": [
    "pd.concat( [dicedf, coindf], axis =1 )"
   ]
  },
  {
   "cell_type": "markdown",
   "metadata": {
    "colab_type": "text",
    "id": "5D4TdMlWJyiD"
   },
   "source": [
    "###  ピボットテーブル\n",
    "\n",
    "ビデオゲームのセールスデータ\"http://logopt.com/data/vgsales.csv\" をピボットテーブルを用いて集計する．\n",
    "\n",
    "pandasの**pivot_table**関数は，引数としてデータフレーム，集計する値(values)，行（index），列(columns），集計関数(aggfunc)を与えると，ピボットテーブルを返す．\n",
    "\n",
    "例としてビデオゲームのデータに対して，行を年('Year')，列をジャンル('Genre')とし，世界中での売り上げ('Global_Sales')を合計（'sum')したピボットテーブルを生成する．\n",
    "\n",
    "集計の方法は引数**aggfunc**で与える．規定値はNumPyの**mean**（平均）である．\n"
   ]
  },
  {
   "cell_type": "code",
   "execution_count": null,
   "metadata": {
    "colab": {
     "base_uri": "https://localhost:8080/",
     "height": 195
    },
    "colab_type": "code",
    "id": "51sMR1v-JyiD",
    "outputId": "c1e48c29-44e8-476f-8872-fcc1e85f6e09"
   },
   "outputs": [],
   "source": [
    "import pandas as pd\n",
    "sales = pd.read_csv(\"http://logopt.com/data/vgsales.csv\")\n",
    "sales.head()"
   ]
  },
  {
   "cell_type": "code",
   "execution_count": null,
   "metadata": {
    "colab": {
     "base_uri": "https://localhost:8080/",
     "height": 225
    },
    "colab_type": "code",
    "id": "NNeYyeNTJyiF",
    "outputId": "00ab118f-7532-421f-ca5b-02918a42ab67"
   },
   "outputs": [],
   "source": [
    "pivot = pd.pivot_table(sales, values=\"Global_Sales\",index=\"Year\", columns=\"Genre\", aggfunc=\"sum\")\n",
    "pivot.head() # ピボットテーブル自身がデータフレームオブジェクトなので，最初の5行だけ表示するにはheadメソッドが使える．"
   ]
  },
  {
   "cell_type": "code",
   "execution_count": null,
   "metadata": {
    "colab": {
     "base_uri": "https://localhost:8080/",
     "height": 297
    },
    "colab_type": "code",
    "id": "ZjFd5aUOJyiG",
    "outputId": "e3e5f677-3112-4e03-bb48-5b3cdc033676"
   },
   "outputs": [],
   "source": [
    "%matplotlib inline\n",
    "pivot.plot() #ピボットテーブル自身がデータフレームオブジェクトなので，plotメソッドで描画もできる．"
   ]
  },
  {
   "cell_type": "markdown",
   "metadata": {
    "colab_type": "text",
    "id": "C9PxaJ0cJyiH"
   },
   "source": [
    "### 問題\n",
    "\n",
    "ポケモンデータ http://logopt.com/data/Pokemon.csv\" に対して，メインタイプ（'Type 1')と世代('Generation')別の攻撃力（'Attack'）と守備力（'Defense'）の平均を集計せよ．\n",
    "\n",
    "（ヒント：pivot_tableで，集計値に複数の値を設定するには，引数**values**にデータフレームの列名をリストとして与える．）\n"
   ]
  },
  {
   "cell_type": "code",
   "execution_count": null,
   "metadata": {
    "colab": {
     "base_uri": "https://localhost:8080/",
     "height": 225
    },
    "colab_type": "code",
    "id": "HaH7OR2gJyiH",
    "outputId": "d632f9bc-7d9d-4a26-9418-06fa38132ef9"
   },
   "outputs": [],
   "source": [
    "import pandas as pd\n",
    "poke = pd.read_csv(\"http://logopt.com/data/Pokemon.csv\",index_col=0)\n",
    "poke.head()"
   ]
  },
  {
   "cell_type": "code",
   "execution_count": null,
   "metadata": {
    "colab": {},
    "colab_type": "code",
    "id": "uifMH3YPJyiJ"
   },
   "outputs": [],
   "source": []
  }
 ],
 "metadata": {
  "colab": {
   "collapsed_sections": [],
   "include_colab_link": true,
   "name": "pandas1.0.ipynb",
   "provenance": [],
   "version": "0.3.2"
  },
  "kernelspec": {
   "display_name": "Python 3",
   "language": "python",
   "name": "python3"
  },
  "language_info": {
   "codemirror_mode": {
    "name": "ipython",
    "version": 3
   },
   "file_extension": ".py",
   "mimetype": "text/x-python",
   "name": "python",
   "nbconvert_exporter": "python",
   "pygments_lexer": "ipython3",
   "version": "3.6.6"
  }
 },
 "nbformat": 4,
 "nbformat_minor": 4
}
